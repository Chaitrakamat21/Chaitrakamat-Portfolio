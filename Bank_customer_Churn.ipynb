{
  "nbformat": 4,
  "nbformat_minor": 0,
  "metadata": {
    "colab": {
      "provenance": [],
      "authorship_tag": "ABX9TyPlE1Awly6qglr0piLa+41L",
      "include_colab_link": true
    },
    "kernelspec": {
      "name": "python3",
      "display_name": "Python 3"
    },
    "language_info": {
      "name": "python"
    }
  },
  "cells": [
    {
      "cell_type": "markdown",
      "metadata": {
        "id": "view-in-github",
        "colab_type": "text"
      },
      "source": [
        "<a href=\"https://colab.research.google.com/github/Chaitrakamat21/Chaitrakamat-Portfolio/blob/main/Bank_customer_Churn.ipynb\" target=\"_parent\"><img src=\"https://colab.research.google.com/assets/colab-badge.svg\" alt=\"Open In Colab\"/></a>"
      ]
    },
    {
      "cell_type": "markdown",
      "source": [],
      "metadata": {
        "id": "90RSW670gID1"
      }
    },
    {
      "cell_type": "markdown",
      "source": [
        "Learning Objective:-\n",
        "1. Data encoding\n",
        "2. Feature scaling\n",
        "3. Handling imbalance data\n",
        "  a. random under sampling\n",
        "  b. random over sampling\n",
        "4. Support vector machine classifier  \n",
        "5. Grid searching for hyperparameter\n",
        "  tunning"
      ],
      "metadata": {
        "id": "ooHx7qp9gKkS"
      }
    },
    {
      "cell_type": "code",
      "execution_count": null,
      "metadata": {
        "id": "3wyXWTckeWhh"
      },
      "outputs": [],
      "source": [
        "import pandas as pd\n",
        "import numpy as np\n",
        "import matplotlib.pyplot as plt\n",
        "import seaborn as sns"
      ]
    },
    {
      "cell_type": "code",
      "source": [
        "df = pd.read_csv('https://github.com/YBIFoundation/Dataset/raw/main/Bank%20Churn%20Modelling.csv')"
      ],
      "metadata": {
        "id": "B8GcLgfihQyr"
      },
      "execution_count": null,
      "outputs": []
    },
    {
      "cell_type": "code",
      "source": [
        "df.head()"
      ],
      "metadata": {
        "colab": {
          "base_uri": "https://localhost:8080/",
          "height": 261
        },
        "id": "qwyT3MfknCMj",
        "outputId": "139baef6-5455-4335-b734-af35352c82c2"
      },
      "execution_count": null,
      "outputs": [
        {
          "output_type": "execute_result",
          "data": {
            "text/plain": [
              "   CustomerId   Surname  CreditScore Geography  Gender  Age  Tenure  \\\n",
              "0    15634602  Hargrave          619    France  Female   42       2   \n",
              "1    15647311      Hill          608     Spain  Female   41       1   \n",
              "2    15619304      Onio          502    France  Female   42       8   \n",
              "3    15701354      Boni          699    France  Female   39       1   \n",
              "4    15737888  Mitchell          850     Spain  Female   43       2   \n",
              "\n",
              "     Balance  Num Of Products  Has Credit Card  Is Active Member  \\\n",
              "0       0.00                1                1                 1   \n",
              "1   83807.86                1                0                 1   \n",
              "2  159660.80                3                1                 0   \n",
              "3       0.00                2                0                 0   \n",
              "4  125510.82                1                1                 1   \n",
              "\n",
              "   Estimated Salary  Churn  \n",
              "0         101348.88      1  \n",
              "1         112542.58      0  \n",
              "2         113931.57      1  \n",
              "3          93826.63      0  \n",
              "4          79084.10      0  "
            ],
            "text/html": [
              "\n",
              "  <div id=\"df-6058794e-07b2-467d-882a-911cec75f16d\" class=\"colab-df-container\">\n",
              "    <div>\n",
              "<style scoped>\n",
              "    .dataframe tbody tr th:only-of-type {\n",
              "        vertical-align: middle;\n",
              "    }\n",
              "\n",
              "    .dataframe tbody tr th {\n",
              "        vertical-align: top;\n",
              "    }\n",
              "\n",
              "    .dataframe thead th {\n",
              "        text-align: right;\n",
              "    }\n",
              "</style>\n",
              "<table border=\"1\" class=\"dataframe\">\n",
              "  <thead>\n",
              "    <tr style=\"text-align: right;\">\n",
              "      <th></th>\n",
              "      <th>CustomerId</th>\n",
              "      <th>Surname</th>\n",
              "      <th>CreditScore</th>\n",
              "      <th>Geography</th>\n",
              "      <th>Gender</th>\n",
              "      <th>Age</th>\n",
              "      <th>Tenure</th>\n",
              "      <th>Balance</th>\n",
              "      <th>Num Of Products</th>\n",
              "      <th>Has Credit Card</th>\n",
              "      <th>Is Active Member</th>\n",
              "      <th>Estimated Salary</th>\n",
              "      <th>Churn</th>\n",
              "    </tr>\n",
              "  </thead>\n",
              "  <tbody>\n",
              "    <tr>\n",
              "      <th>0</th>\n",
              "      <td>15634602</td>\n",
              "      <td>Hargrave</td>\n",
              "      <td>619</td>\n",
              "      <td>France</td>\n",
              "      <td>Female</td>\n",
              "      <td>42</td>\n",
              "      <td>2</td>\n",
              "      <td>0.00</td>\n",
              "      <td>1</td>\n",
              "      <td>1</td>\n",
              "      <td>1</td>\n",
              "      <td>101348.88</td>\n",
              "      <td>1</td>\n",
              "    </tr>\n",
              "    <tr>\n",
              "      <th>1</th>\n",
              "      <td>15647311</td>\n",
              "      <td>Hill</td>\n",
              "      <td>608</td>\n",
              "      <td>Spain</td>\n",
              "      <td>Female</td>\n",
              "      <td>41</td>\n",
              "      <td>1</td>\n",
              "      <td>83807.86</td>\n",
              "      <td>1</td>\n",
              "      <td>0</td>\n",
              "      <td>1</td>\n",
              "      <td>112542.58</td>\n",
              "      <td>0</td>\n",
              "    </tr>\n",
              "    <tr>\n",
              "      <th>2</th>\n",
              "      <td>15619304</td>\n",
              "      <td>Onio</td>\n",
              "      <td>502</td>\n",
              "      <td>France</td>\n",
              "      <td>Female</td>\n",
              "      <td>42</td>\n",
              "      <td>8</td>\n",
              "      <td>159660.80</td>\n",
              "      <td>3</td>\n",
              "      <td>1</td>\n",
              "      <td>0</td>\n",
              "      <td>113931.57</td>\n",
              "      <td>1</td>\n",
              "    </tr>\n",
              "    <tr>\n",
              "      <th>3</th>\n",
              "      <td>15701354</td>\n",
              "      <td>Boni</td>\n",
              "      <td>699</td>\n",
              "      <td>France</td>\n",
              "      <td>Female</td>\n",
              "      <td>39</td>\n",
              "      <td>1</td>\n",
              "      <td>0.00</td>\n",
              "      <td>2</td>\n",
              "      <td>0</td>\n",
              "      <td>0</td>\n",
              "      <td>93826.63</td>\n",
              "      <td>0</td>\n",
              "    </tr>\n",
              "    <tr>\n",
              "      <th>4</th>\n",
              "      <td>15737888</td>\n",
              "      <td>Mitchell</td>\n",
              "      <td>850</td>\n",
              "      <td>Spain</td>\n",
              "      <td>Female</td>\n",
              "      <td>43</td>\n",
              "      <td>2</td>\n",
              "      <td>125510.82</td>\n",
              "      <td>1</td>\n",
              "      <td>1</td>\n",
              "      <td>1</td>\n",
              "      <td>79084.10</td>\n",
              "      <td>0</td>\n",
              "    </tr>\n",
              "  </tbody>\n",
              "</table>\n",
              "</div>\n",
              "    <div class=\"colab-df-buttons\">\n",
              "\n",
              "  <div class=\"colab-df-container\">\n",
              "    <button class=\"colab-df-convert\" onclick=\"convertToInteractive('df-6058794e-07b2-467d-882a-911cec75f16d')\"\n",
              "            title=\"Convert this dataframe to an interactive table.\"\n",
              "            style=\"display:none;\">\n",
              "\n",
              "  <svg xmlns=\"http://www.w3.org/2000/svg\" height=\"24px\" viewBox=\"0 -960 960 960\">\n",
              "    <path d=\"M120-120v-720h720v720H120Zm60-500h600v-160H180v160Zm220 220h160v-160H400v160Zm0 220h160v-160H400v160ZM180-400h160v-160H180v160Zm440 0h160v-160H620v160ZM180-180h160v-160H180v160Zm440 0h160v-160H620v160Z\"/>\n",
              "  </svg>\n",
              "    </button>\n",
              "\n",
              "  <style>\n",
              "    .colab-df-container {\n",
              "      display:flex;\n",
              "      gap: 12px;\n",
              "    }\n",
              "\n",
              "    .colab-df-convert {\n",
              "      background-color: #E8F0FE;\n",
              "      border: none;\n",
              "      border-radius: 50%;\n",
              "      cursor: pointer;\n",
              "      display: none;\n",
              "      fill: #1967D2;\n",
              "      height: 32px;\n",
              "      padding: 0 0 0 0;\n",
              "      width: 32px;\n",
              "    }\n",
              "\n",
              "    .colab-df-convert:hover {\n",
              "      background-color: #E2EBFA;\n",
              "      box-shadow: 0px 1px 2px rgba(60, 64, 67, 0.3), 0px 1px 3px 1px rgba(60, 64, 67, 0.15);\n",
              "      fill: #174EA6;\n",
              "    }\n",
              "\n",
              "    .colab-df-buttons div {\n",
              "      margin-bottom: 4px;\n",
              "    }\n",
              "\n",
              "    [theme=dark] .colab-df-convert {\n",
              "      background-color: #3B4455;\n",
              "      fill: #D2E3FC;\n",
              "    }\n",
              "\n",
              "    [theme=dark] .colab-df-convert:hover {\n",
              "      background-color: #434B5C;\n",
              "      box-shadow: 0px 1px 3px 1px rgba(0, 0, 0, 0.15);\n",
              "      filter: drop-shadow(0px 1px 2px rgba(0, 0, 0, 0.3));\n",
              "      fill: #FFFFFF;\n",
              "    }\n",
              "  </style>\n",
              "\n",
              "    <script>\n",
              "      const buttonEl =\n",
              "        document.querySelector('#df-6058794e-07b2-467d-882a-911cec75f16d button.colab-df-convert');\n",
              "      buttonEl.style.display =\n",
              "        google.colab.kernel.accessAllowed ? 'block' : 'none';\n",
              "\n",
              "      async function convertToInteractive(key) {\n",
              "        const element = document.querySelector('#df-6058794e-07b2-467d-882a-911cec75f16d');\n",
              "        const dataTable =\n",
              "          await google.colab.kernel.invokeFunction('convertToInteractive',\n",
              "                                                    [key], {});\n",
              "        if (!dataTable) return;\n",
              "\n",
              "        const docLinkHtml = 'Like what you see? Visit the ' +\n",
              "          '<a target=\"_blank\" href=https://colab.research.google.com/notebooks/data_table.ipynb>data table notebook</a>'\n",
              "          + ' to learn more about interactive tables.';\n",
              "        element.innerHTML = '';\n",
              "        dataTable['output_type'] = 'display_data';\n",
              "        await google.colab.output.renderOutput(dataTable, element);\n",
              "        const docLink = document.createElement('div');\n",
              "        docLink.innerHTML = docLinkHtml;\n",
              "        element.appendChild(docLink);\n",
              "      }\n",
              "    </script>\n",
              "  </div>\n",
              "\n",
              "\n",
              "<div id=\"df-8dc7b1a6-8a0f-4d38-b0fd-e694486cf647\">\n",
              "  <button class=\"colab-df-quickchart\" onclick=\"quickchart('df-8dc7b1a6-8a0f-4d38-b0fd-e694486cf647')\"\n",
              "            title=\"Suggest charts\"\n",
              "            style=\"display:none;\">\n",
              "\n",
              "<svg xmlns=\"http://www.w3.org/2000/svg\" height=\"24px\"viewBox=\"0 0 24 24\"\n",
              "     width=\"24px\">\n",
              "    <g>\n",
              "        <path d=\"M19 3H5c-1.1 0-2 .9-2 2v14c0 1.1.9 2 2 2h14c1.1 0 2-.9 2-2V5c0-1.1-.9-2-2-2zM9 17H7v-7h2v7zm4 0h-2V7h2v10zm4 0h-2v-4h2v4z\"/>\n",
              "    </g>\n",
              "</svg>\n",
              "  </button>\n",
              "\n",
              "<style>\n",
              "  .colab-df-quickchart {\n",
              "      --bg-color: #E8F0FE;\n",
              "      --fill-color: #1967D2;\n",
              "      --hover-bg-color: #E2EBFA;\n",
              "      --hover-fill-color: #174EA6;\n",
              "      --disabled-fill-color: #AAA;\n",
              "      --disabled-bg-color: #DDD;\n",
              "  }\n",
              "\n",
              "  [theme=dark] .colab-df-quickchart {\n",
              "      --bg-color: #3B4455;\n",
              "      --fill-color: #D2E3FC;\n",
              "      --hover-bg-color: #434B5C;\n",
              "      --hover-fill-color: #FFFFFF;\n",
              "      --disabled-bg-color: #3B4455;\n",
              "      --disabled-fill-color: #666;\n",
              "  }\n",
              "\n",
              "  .colab-df-quickchart {\n",
              "    background-color: var(--bg-color);\n",
              "    border: none;\n",
              "    border-radius: 50%;\n",
              "    cursor: pointer;\n",
              "    display: none;\n",
              "    fill: var(--fill-color);\n",
              "    height: 32px;\n",
              "    padding: 0;\n",
              "    width: 32px;\n",
              "  }\n",
              "\n",
              "  .colab-df-quickchart:hover {\n",
              "    background-color: var(--hover-bg-color);\n",
              "    box-shadow: 0 1px 2px rgba(60, 64, 67, 0.3), 0 1px 3px 1px rgba(60, 64, 67, 0.15);\n",
              "    fill: var(--button-hover-fill-color);\n",
              "  }\n",
              "\n",
              "  .colab-df-quickchart-complete:disabled,\n",
              "  .colab-df-quickchart-complete:disabled:hover {\n",
              "    background-color: var(--disabled-bg-color);\n",
              "    fill: var(--disabled-fill-color);\n",
              "    box-shadow: none;\n",
              "  }\n",
              "\n",
              "  .colab-df-spinner {\n",
              "    border: 2px solid var(--fill-color);\n",
              "    border-color: transparent;\n",
              "    border-bottom-color: var(--fill-color);\n",
              "    animation:\n",
              "      spin 1s steps(1) infinite;\n",
              "  }\n",
              "\n",
              "  @keyframes spin {\n",
              "    0% {\n",
              "      border-color: transparent;\n",
              "      border-bottom-color: var(--fill-color);\n",
              "      border-left-color: var(--fill-color);\n",
              "    }\n",
              "    20% {\n",
              "      border-color: transparent;\n",
              "      border-left-color: var(--fill-color);\n",
              "      border-top-color: var(--fill-color);\n",
              "    }\n",
              "    30% {\n",
              "      border-color: transparent;\n",
              "      border-left-color: var(--fill-color);\n",
              "      border-top-color: var(--fill-color);\n",
              "      border-right-color: var(--fill-color);\n",
              "    }\n",
              "    40% {\n",
              "      border-color: transparent;\n",
              "      border-right-color: var(--fill-color);\n",
              "      border-top-color: var(--fill-color);\n",
              "    }\n",
              "    60% {\n",
              "      border-color: transparent;\n",
              "      border-right-color: var(--fill-color);\n",
              "    }\n",
              "    80% {\n",
              "      border-color: transparent;\n",
              "      border-right-color: var(--fill-color);\n",
              "      border-bottom-color: var(--fill-color);\n",
              "    }\n",
              "    90% {\n",
              "      border-color: transparent;\n",
              "      border-bottom-color: var(--fill-color);\n",
              "    }\n",
              "  }\n",
              "</style>\n",
              "\n",
              "  <script>\n",
              "    async function quickchart(key) {\n",
              "      const quickchartButtonEl =\n",
              "        document.querySelector('#' + key + ' button');\n",
              "      quickchartButtonEl.disabled = true;  // To prevent multiple clicks.\n",
              "      quickchartButtonEl.classList.add('colab-df-spinner');\n",
              "      try {\n",
              "        const charts = await google.colab.kernel.invokeFunction(\n",
              "            'suggestCharts', [key], {});\n",
              "      } catch (error) {\n",
              "        console.error('Error during call to suggestCharts:', error);\n",
              "      }\n",
              "      quickchartButtonEl.classList.remove('colab-df-spinner');\n",
              "      quickchartButtonEl.classList.add('colab-df-quickchart-complete');\n",
              "    }\n",
              "    (() => {\n",
              "      let quickchartButtonEl =\n",
              "        document.querySelector('#df-8dc7b1a6-8a0f-4d38-b0fd-e694486cf647 button');\n",
              "      quickchartButtonEl.style.display =\n",
              "        google.colab.kernel.accessAllowed ? 'block' : 'none';\n",
              "    })();\n",
              "  </script>\n",
              "</div>\n",
              "\n",
              "    </div>\n",
              "  </div>\n"
            ],
            "application/vnd.google.colaboratory.intrinsic+json": {
              "type": "dataframe",
              "variable_name": "df",
              "summary": "{\n  \"name\": \"df\",\n  \"rows\": 10000,\n  \"fields\": [\n    {\n      \"column\": \"CustomerId\",\n      \"properties\": {\n        \"dtype\": \"number\",\n        \"std\": 71936,\n        \"min\": 15565701,\n        \"max\": 15815690,\n        \"num_unique_values\": 10000,\n        \"samples\": [\n          15687492,\n          15736963,\n          15721730\n        ],\n        \"semantic_type\": \"\",\n        \"description\": \"\"\n      }\n    },\n    {\n      \"column\": \"Surname\",\n      \"properties\": {\n        \"dtype\": \"category\",\n        \"num_unique_values\": 2932,\n        \"samples\": [\n          \"McGuirk\",\n          \"Torkelson\",\n          \"Rapuluchukwu\"\n        ],\n        \"semantic_type\": \"\",\n        \"description\": \"\"\n      }\n    },\n    {\n      \"column\": \"CreditScore\",\n      \"properties\": {\n        \"dtype\": \"number\",\n        \"std\": 96,\n        \"min\": 350,\n        \"max\": 850,\n        \"num_unique_values\": 460,\n        \"samples\": [\n          754,\n          533,\n          744\n        ],\n        \"semantic_type\": \"\",\n        \"description\": \"\"\n      }\n    },\n    {\n      \"column\": \"Geography\",\n      \"properties\": {\n        \"dtype\": \"category\",\n        \"num_unique_values\": 3,\n        \"samples\": [\n          \"France\",\n          \"Spain\",\n          \"Germany\"\n        ],\n        \"semantic_type\": \"\",\n        \"description\": \"\"\n      }\n    },\n    {\n      \"column\": \"Gender\",\n      \"properties\": {\n        \"dtype\": \"category\",\n        \"num_unique_values\": 2,\n        \"samples\": [\n          \"Male\",\n          \"Female\"\n        ],\n        \"semantic_type\": \"\",\n        \"description\": \"\"\n      }\n    },\n    {\n      \"column\": \"Age\",\n      \"properties\": {\n        \"dtype\": \"number\",\n        \"std\": 10,\n        \"min\": 18,\n        \"max\": 92,\n        \"num_unique_values\": 70,\n        \"samples\": [\n          61,\n          42\n        ],\n        \"semantic_type\": \"\",\n        \"description\": \"\"\n      }\n    },\n    {\n      \"column\": \"Tenure\",\n      \"properties\": {\n        \"dtype\": \"number\",\n        \"std\": 2,\n        \"min\": 0,\n        \"max\": 10,\n        \"num_unique_values\": 11,\n        \"samples\": [\n          6,\n          2\n        ],\n        \"semantic_type\": \"\",\n        \"description\": \"\"\n      }\n    },\n    {\n      \"column\": \"Balance\",\n      \"properties\": {\n        \"dtype\": \"number\",\n        \"std\": 62397.405202385955,\n        \"min\": 0.0,\n        \"max\": 250898.09,\n        \"num_unique_values\": 6382,\n        \"samples\": [\n          117707.18,\n          133050.97\n        ],\n        \"semantic_type\": \"\",\n        \"description\": \"\"\n      }\n    },\n    {\n      \"column\": \"Num Of Products\",\n      \"properties\": {\n        \"dtype\": \"number\",\n        \"std\": 0,\n        \"min\": 1,\n        \"max\": 4,\n        \"num_unique_values\": 4,\n        \"samples\": [\n          3,\n          4\n        ],\n        \"semantic_type\": \"\",\n        \"description\": \"\"\n      }\n    },\n    {\n      \"column\": \"Has Credit Card\",\n      \"properties\": {\n        \"dtype\": \"number\",\n        \"std\": 0,\n        \"min\": 0,\n        \"max\": 1,\n        \"num_unique_values\": 2,\n        \"samples\": [\n          0,\n          1\n        ],\n        \"semantic_type\": \"\",\n        \"description\": \"\"\n      }\n    },\n    {\n      \"column\": \"Is Active Member\",\n      \"properties\": {\n        \"dtype\": \"number\",\n        \"std\": 0,\n        \"min\": 0,\n        \"max\": 1,\n        \"num_unique_values\": 2,\n        \"samples\": [\n          0,\n          1\n        ],\n        \"semantic_type\": \"\",\n        \"description\": \"\"\n      }\n    },\n    {\n      \"column\": \"Estimated Salary\",\n      \"properties\": {\n        \"dtype\": \"number\",\n        \"std\": 57510.49281769816,\n        \"min\": 11.58,\n        \"max\": 199992.48,\n        \"num_unique_values\": 9999,\n        \"samples\": [\n          100809.99,\n          95273.73\n        ],\n        \"semantic_type\": \"\",\n        \"description\": \"\"\n      }\n    },\n    {\n      \"column\": \"Churn\",\n      \"properties\": {\n        \"dtype\": \"number\",\n        \"std\": 0,\n        \"min\": 0,\n        \"max\": 1,\n        \"num_unique_values\": 2,\n        \"samples\": [\n          0,\n          1\n        ],\n        \"semantic_type\": \"\",\n        \"description\": \"\"\n      }\n    }\n  ]\n}"
            }
          },
          "metadata": {},
          "execution_count": 113
        }
      ]
    },
    {
      "cell_type": "code",
      "source": [
        "df.info()"
      ],
      "metadata": {
        "colab": {
          "base_uri": "https://localhost:8080/"
        },
        "id": "1sM-5EMKnQjr",
        "outputId": "d71d8927-d797-4acd-f748-adc82778862f"
      },
      "execution_count": null,
      "outputs": [
        {
          "output_type": "stream",
          "name": "stdout",
          "text": [
            "<class 'pandas.core.frame.DataFrame'>\n",
            "RangeIndex: 10000 entries, 0 to 9999\n",
            "Data columns (total 13 columns):\n",
            " #   Column            Non-Null Count  Dtype  \n",
            "---  ------            --------------  -----  \n",
            " 0   CustomerId        10000 non-null  int64  \n",
            " 1   Surname           10000 non-null  object \n",
            " 2   CreditScore       10000 non-null  int64  \n",
            " 3   Geography         10000 non-null  object \n",
            " 4   Gender            10000 non-null  object \n",
            " 5   Age               10000 non-null  int64  \n",
            " 6   Tenure            10000 non-null  int64  \n",
            " 7   Balance           10000 non-null  float64\n",
            " 8   Num Of Products   10000 non-null  int64  \n",
            " 9   Has Credit Card   10000 non-null  int64  \n",
            " 10  Is Active Member  10000 non-null  int64  \n",
            " 11  Estimated Salary  10000 non-null  float64\n",
            " 12  Churn             10000 non-null  int64  \n",
            "dtypes: float64(2), int64(8), object(3)\n",
            "memory usage: 1015.8+ KB\n"
          ]
        }
      ]
    },
    {
      "cell_type": "code",
      "source": [
        "df.duplicated('CustomerId').sum()"
      ],
      "metadata": {
        "colab": {
          "base_uri": "https://localhost:8080/"
        },
        "id": "IwmQ4kaOnXdC",
        "outputId": "deb0629d-af57-4a53-8530-a42f38bbef41"
      },
      "execution_count": null,
      "outputs": [
        {
          "output_type": "execute_result",
          "data": {
            "text/plain": [
              "0"
            ]
          },
          "metadata": {},
          "execution_count": 115
        }
      ]
    },
    {
      "cell_type": "code",
      "source": [
        "df = df.set_index('CustomerId')"
      ],
      "metadata": {
        "id": "nPw5PWrOnhLp"
      },
      "execution_count": null,
      "outputs": []
    },
    {
      "cell_type": "code",
      "source": [
        "df.info()"
      ],
      "metadata": {
        "colab": {
          "base_uri": "https://localhost:8080/"
        },
        "id": "Dq_jrlWmnqj-",
        "outputId": "c402a0b2-9cb3-40b4-dd1a-083f2d3c7e9f"
      },
      "execution_count": null,
      "outputs": [
        {
          "output_type": "stream",
          "name": "stdout",
          "text": [
            "<class 'pandas.core.frame.DataFrame'>\n",
            "Index: 10000 entries, 15634602 to 15628319\n",
            "Data columns (total 12 columns):\n",
            " #   Column            Non-Null Count  Dtype  \n",
            "---  ------            --------------  -----  \n",
            " 0   Surname           10000 non-null  object \n",
            " 1   CreditScore       10000 non-null  int64  \n",
            " 2   Geography         10000 non-null  object \n",
            " 3   Gender            10000 non-null  object \n",
            " 4   Age               10000 non-null  int64  \n",
            " 5   Tenure            10000 non-null  int64  \n",
            " 6   Balance           10000 non-null  float64\n",
            " 7   Num Of Products   10000 non-null  int64  \n",
            " 8   Has Credit Card   10000 non-null  int64  \n",
            " 9   Is Active Member  10000 non-null  int64  \n",
            " 10  Estimated Salary  10000 non-null  float64\n",
            " 11  Churn             10000 non-null  int64  \n",
            "dtypes: float64(2), int64(7), object(3)\n",
            "memory usage: 1015.6+ KB\n"
          ]
        }
      ]
    },
    {
      "cell_type": "code",
      "source": [
        "df['Geography'].value_counts()"
      ],
      "metadata": {
        "colab": {
          "base_uri": "https://localhost:8080/"
        },
        "id": "VKiPxY9in1Yt",
        "outputId": "5047954d-d44a-407d-e38a-dd2d8057b009"
      },
      "execution_count": null,
      "outputs": [
        {
          "output_type": "execute_result",
          "data": {
            "text/plain": [
              "Geography\n",
              "France     5014\n",
              "Germany    2509\n",
              "Spain      2477\n",
              "Name: count, dtype: int64"
            ]
          },
          "metadata": {},
          "execution_count": 118
        }
      ]
    },
    {
      "cell_type": "code",
      "source": [
        "df.replace({'Geography':{'France':2,'Germany':1,'Spain':0}},inplace=True)"
      ],
      "metadata": {
        "id": "HL5R1hACn-F2"
      },
      "execution_count": null,
      "outputs": []
    },
    {
      "cell_type": "code",
      "source": [
        "df['Gender'].value_counts()"
      ],
      "metadata": {
        "colab": {
          "base_uri": "https://localhost:8080/"
        },
        "id": "3lIa0wbpoVfd",
        "outputId": "acff67b8-b94b-4548-c981-d2b2213d2503"
      },
      "execution_count": null,
      "outputs": [
        {
          "output_type": "execute_result",
          "data": {
            "text/plain": [
              "Gender\n",
              "Male      5457\n",
              "Female    4543\n",
              "Name: count, dtype: int64"
            ]
          },
          "metadata": {},
          "execution_count": 120
        }
      ]
    },
    {
      "cell_type": "code",
      "source": [
        "df.replace({'Gender':{'Male':0,'Female':1}},inplace=True)"
      ],
      "metadata": {
        "id": "xdoy1-96rHcT"
      },
      "execution_count": null,
      "outputs": []
    },
    {
      "cell_type": "code",
      "source": [
        "df['Num Of Products'].value_counts()"
      ],
      "metadata": {
        "colab": {
          "base_uri": "https://localhost:8080/"
        },
        "id": "3jip-Ctfr7xZ",
        "outputId": "1683373e-a006-4d27-9c99-ee38f749dc4f"
      },
      "execution_count": null,
      "outputs": [
        {
          "output_type": "execute_result",
          "data": {
            "text/plain": [
              "Num Of Products\n",
              "1    5084\n",
              "2    4590\n",
              "3     266\n",
              "4      60\n",
              "Name: count, dtype: int64"
            ]
          },
          "metadata": {},
          "execution_count": 122
        }
      ]
    },
    {
      "cell_type": "code",
      "source": [
        "df.replace({'NumOfProducts':{1:0,2:1,3:1,4:1}},inplace=True)"
      ],
      "metadata": {
        "id": "IBnUjpiasJAy"
      },
      "execution_count": null,
      "outputs": []
    },
    {
      "cell_type": "code",
      "source": [
        "df['Has Credit Card'].value_counts()"
      ],
      "metadata": {
        "colab": {
          "base_uri": "https://localhost:8080/"
        },
        "id": "1GQgXHkZsXAB",
        "outputId": "23adf103-2b84-4f8a-f380-27d5f2840259"
      },
      "execution_count": null,
      "outputs": [
        {
          "output_type": "execute_result",
          "data": {
            "text/plain": [
              "Has Credit Card\n",
              "1    7055\n",
              "0    2945\n",
              "Name: count, dtype: int64"
            ]
          },
          "metadata": {},
          "execution_count": 124
        }
      ]
    },
    {
      "cell_type": "code",
      "source": [
        "df['Is Active Member'].value_counts()"
      ],
      "metadata": {
        "colab": {
          "base_uri": "https://localhost:8080/"
        },
        "id": "neVJadJzshf4",
        "outputId": "4db989dc-de4e-470c-fd1b-ab55054db50a"
      },
      "execution_count": null,
      "outputs": [
        {
          "output_type": "execute_result",
          "data": {
            "text/plain": [
              "Is Active Member\n",
              "1    5151\n",
              "0    4849\n",
              "Name: count, dtype: int64"
            ]
          },
          "metadata": {},
          "execution_count": 125
        }
      ]
    },
    {
      "cell_type": "code",
      "source": [
        "df.loc[(df['Balance']==0),'Churn'].value_counts()"
      ],
      "metadata": {
        "colab": {
          "base_uri": "https://localhost:8080/"
        },
        "id": "UviVzZLRssbi",
        "outputId": "7265c82f-707a-461a-c11a-3b1337848cd3"
      },
      "execution_count": null,
      "outputs": [
        {
          "output_type": "execute_result",
          "data": {
            "text/plain": [
              "Churn\n",
              "0    3117\n",
              "1     500\n",
              "Name: count, dtype: int64"
            ]
          },
          "metadata": {},
          "execution_count": 126
        }
      ]
    },
    {
      "cell_type": "code",
      "source": [
        "df['Zero Balance']=np.where(df['Balance']>0,1,0)"
      ],
      "metadata": {
        "id": "3-xGEH9XtMob"
      },
      "execution_count": null,
      "outputs": []
    },
    {
      "cell_type": "code",
      "source": [
        "df['Zero Balance'].hist()"
      ],
      "metadata": {
        "colab": {
          "base_uri": "https://localhost:8080/",
          "height": 447
        },
        "id": "DEZOgRuLtk4n",
        "outputId": "d2f36f58-c8c4-4bf2-e207-b678abd7164e"
      },
      "execution_count": null,
      "outputs": [
        {
          "output_type": "execute_result",
          "data": {
            "text/plain": [
              "<Axes: >"
            ]
          },
          "metadata": {},
          "execution_count": 128
        },
        {
          "output_type": "display_data",
          "data": {
            "text/plain": [
              "<Figure size 640x480 with 1 Axes>"
            ],
            "image/png": "[encoded data removed]"
          },
          "metadata": {}
        }
      ]
    },
    {
      "cell_type": "code",
      "source": [
        "df.groupby(['Churn','Geography']).count()"
      ],
      "metadata": {
        "colab": {
          "base_uri": "https://localhost:8080/",
          "height": 323
        },
        "id": "rypoqIe-tr6Y",
        "outputId": "af474945-6b5e-4a49-8e58-a9bff71cada9"
      },
      "execution_count": null,
      "outputs": [
        {
          "output_type": "execute_result",
          "data": {
            "text/plain": [
              "                 Surname  CreditScore  Gender   Age  Tenure  Balance  \\\n",
              "Churn Geography                                                        \n",
              "0     0             2064         2064    2064  2064    2064     2064   \n",
              "      1             1695         1695    1695  1695    1695     1695   \n",
              "      2             4204         4204    4204  4204    4204     4204   \n",
              "1     0              413          413     413   413     413      413   \n",
              "      1              814          814     814   814     814      814   \n",
              "      2              810          810     810   810     810      810   \n",
              "\n",
              "                 Num Of Products  Has Credit Card  Is Active Member  \\\n",
              "Churn Geography                                                       \n",
              "0     0                     2064             2064              2064   \n",
              "      1                     1695             1695              1695   \n",
              "      2                     4204             4204              4204   \n",
              "1     0                      413              413               413   \n",
              "      1                      814              814               814   \n",
              "      2                      810              810               810   \n",
              "\n",
              "                 Estimated Salary  Zero Balance  \n",
              "Churn Geography                                  \n",
              "0     0                      2064          2064  \n",
              "      1                      1695          1695  \n",
              "      2                      4204          4204  \n",
              "1     0                       413           413  \n",
              "      1                       814           814  \n",
              "      2                       810           810  "
            ],
            "text/html": [
              "\n",
              "  <div id=\"df-594a7e6d-ccbe-4b20-9bff-e58800befe08\" class=\"colab-df-container\">\n",
              "    <div>\n",
              "<style scoped>\n",
              "    .dataframe tbody tr th:only-of-type {\n",
              "        vertical-align: middle;\n",
              "    }\n",
              "\n",
              "    .dataframe tbody tr th {\n",
              "        vertical-align: top;\n",
              "    }\n",
              "\n",
              "    .dataframe thead th {\n",
              "        text-align: right;\n",
              "    }\n",
              "</style>\n",
              "<table border=\"1\" class=\"dataframe\">\n",
              "  <thead>\n",
              "    <tr style=\"text-align: right;\">\n",
              "      <th></th>\n",
              "      <th></th>\n",
              "      <th>Surname</th>\n",
              "      <th>CreditScore</th>\n",
              "      <th>Gender</th>\n",
              "      <th>Age</th>\n",
              "      <th>Tenure</th>\n",
              "      <th>Balance</th>\n",
              "      <th>Num Of Products</th>\n",
              "      <th>Has Credit Card</th>\n",
              "      <th>Is Active Member</th>\n",
              "      <th>Estimated Salary</th>\n",
              "      <th>Zero Balance</th>\n",
              "    </tr>\n",
              "    <tr>\n",
              "      <th>Churn</th>\n",
              "      <th>Geography</th>\n",
              "      <th></th>\n",
              "      <th></th>\n",
              "      <th></th>\n",
              "      <th></th>\n",
              "      <th></th>\n",
              "      <th></th>\n",
              "      <th></th>\n",
              "      <th></th>\n",
              "      <th></th>\n",
              "      <th></th>\n",
              "      <th></th>\n",
              "    </tr>\n",
              "  </thead>\n",
              "  <tbody>\n",
              "    <tr>\n",
              "      <th rowspan=\"3\" valign=\"top\">0</th>\n",
              "      <th>0</th>\n",
              "      <td>2064</td>\n",
              "      <td>2064</td>\n",
              "      <td>2064</td>\n",
              "      <td>2064</td>\n",
              "      <td>2064</td>\n",
              "      <td>2064</td>\n",
              "      <td>2064</td>\n",
              "      <td>2064</td>\n",
              "      <td>2064</td>\n",
              "      <td>2064</td>\n",
              "      <td>2064</td>\n",
              "    </tr>\n",
              "    <tr>\n",
              "      <th>1</th>\n",
              "      <td>1695</td>\n",
              "      <td>1695</td>\n",
              "      <td>1695</td>\n",
              "      <td>1695</td>\n",
              "      <td>1695</td>\n",
              "      <td>1695</td>\n",
              "      <td>1695</td>\n",
              "      <td>1695</td>\n",
              "      <td>1695</td>\n",
              "      <td>1695</td>\n",
              "      <td>1695</td>\n",
              "    </tr>\n",
              "    <tr>\n",
              "      <th>2</th>\n",
              "      <td>4204</td>\n",
              "      <td>4204</td>\n",
              "      <td>4204</td>\n",
              "      <td>4204</td>\n",
              "      <td>4204</td>\n",
              "      <td>4204</td>\n",
              "      <td>4204</td>\n",
              "      <td>4204</td>\n",
              "      <td>4204</td>\n",
              "      <td>4204</td>\n",
              "      <td>4204</td>\n",
              "    </tr>\n",
              "    <tr>\n",
              "      <th rowspan=\"3\" valign=\"top\">1</th>\n",
              "      <th>0</th>\n",
              "      <td>413</td>\n",
              "      <td>413</td>\n",
              "      <td>413</td>\n",
              "      <td>413</td>\n",
              "      <td>413</td>\n",
              "      <td>413</td>\n",
              "      <td>413</td>\n",
              "      <td>413</td>\n",
              "      <td>413</td>\n",
              "      <td>413</td>\n",
              "      <td>413</td>\n",
              "    </tr>\n",
              "    <tr>\n",
              "      <th>1</th>\n",
              "      <td>814</td>\n",
              "      <td>814</td>\n",
              "      <td>814</td>\n",
              "      <td>814</td>\n",
              "      <td>814</td>\n",
              "      <td>814</td>\n",
              "      <td>814</td>\n",
              "      <td>814</td>\n",
              "      <td>814</td>\n",
              "      <td>814</td>\n",
              "      <td>814</td>\n",
              "    </tr>\n",
              "    <tr>\n",
              "      <th>2</th>\n",
              "      <td>810</td>\n",
              "      <td>810</td>\n",
              "      <td>810</td>\n",
              "      <td>810</td>\n",
              "      <td>810</td>\n",
              "      <td>810</td>\n",
              "      <td>810</td>\n",
              "      <td>810</td>\n",
              "      <td>810</td>\n",
              "      <td>810</td>\n",
              "      <td>810</td>\n",
              "    </tr>\n",
              "  </tbody>\n",
              "</table>\n",
              "</div>\n",
              "    <div class=\"colab-df-buttons\">\n",
              "\n",
              "  <div class=\"colab-df-container\">\n",
              "    <button class=\"colab-df-convert\" onclick=\"convertToInteractive('df-594a7e6d-ccbe-4b20-9bff-e58800befe08')\"\n",
              "            title=\"Convert this dataframe to an interactive table.\"\n",
              "            style=\"display:none;\">\n",
              "\n",
              "  <svg xmlns=\"http://www.w3.org/2000/svg\" height=\"24px\" viewBox=\"0 -960 960 960\">\n",
              "    <path d=\"M120-120v-720h720v720H120Zm60-500h600v-160H180v160Zm220 220h160v-160H400v160Zm0 220h160v-160H400v160ZM180-400h160v-160H180v160Zm440 0h160v-160H620v160ZM180-180h160v-160H180v160Zm440 0h160v-160H620v160Z\"/>\n",
              "  </svg>\n",
              "    </button>\n",
              "\n",
              "  <style>\n",
              "    .colab-df-container {\n",
              "      display:flex;\n",
              "      gap: 12px;\n",
              "    }\n",
              "\n",
              "    .colab-df-convert {\n",
              "      background-color: #E8F0FE;\n",
              "      border: none;\n",
              "      border-radius: 50%;\n",
              "      cursor: pointer;\n",
              "      display: none;\n",
              "      fill: #1967D2;\n",
              "      height: 32px;\n",
              "      padding: 0 0 0 0;\n",
              "      width: 32px;\n",
              "    }\n",
              "\n",
              "    .colab-df-convert:hover {\n",
              "      background-color: #E2EBFA;\n",
              "      box-shadow: 0px 1px 2px rgba(60, 64, 67, 0.3), 0px 1px 3px 1px rgba(60, 64, 67, 0.15);\n",
              "      fill: #174EA6;\n",
              "    }\n",
              "\n",
              "    .colab-df-buttons div {\n",
              "      margin-bottom: 4px;\n",
              "    }\n",
              "\n",
              "    [theme=dark] .colab-df-convert {\n",
              "      background-color: #3B4455;\n",
              "      fill: #D2E3FC;\n",
              "    }\n",
              "\n",
              "    [theme=dark] .colab-df-convert:hover {\n",
              "      background-color: #434B5C;\n",
              "      box-shadow: 0px 1px 3px 1px rgba(0, 0, 0, 0.15);\n",
              "      filter: drop-shadow(0px 1px 2px rgba(0, 0, 0, 0.3));\n",
              "      fill: #FFFFFF;\n",
              "    }\n",
              "  </style>\n",
              "\n",
              "    <script>\n",
              "      const buttonEl =\n",
              "        document.querySelector('#df-594a7e6d-ccbe-4b20-9bff-e58800befe08 button.colab-df-convert');\n",
              "      buttonEl.style.display =\n",
              "        google.colab.kernel.accessAllowed ? 'block' : 'none';\n",
              "\n",
              "      async function convertToInteractive(key) {\n",
              "        const element = document.querySelector('#df-594a7e6d-ccbe-4b20-9bff-e58800befe08');\n",
              "        const dataTable =\n",
              "          await google.colab.kernel.invokeFunction('convertToInteractive',\n",
              "                                                    [key], {});\n",
              "        if (!dataTable) return;\n",
              "\n",
              "        const docLinkHtml = 'Like what you see? Visit the ' +\n",
              "          '<a target=\"_blank\" href=https://colab.research.google.com/notebooks/data_table.ipynb>data table notebook</a>'\n",
              "          + ' to learn more about interactive tables.';\n",
              "        element.innerHTML = '';\n",
              "        dataTable['output_type'] = 'display_data';\n",
              "        await google.colab.output.renderOutput(dataTable, element);\n",
              "        const docLink = document.createElement('div');\n",
              "        docLink.innerHTML = docLinkHtml;\n",
              "        element.appendChild(docLink);\n",
              "      }\n",
              "    </script>\n",
              "  </div>\n",
              "\n",
              "\n",
              "<div id=\"df-eef78dff-54d4-4eb7-9df2-af5c3a853a14\">\n",
              "  <button class=\"colab-df-quickchart\" onclick=\"quickchart('df-eef78dff-54d4-4eb7-9df2-af5c3a853a14')\"\n",
              "            title=\"Suggest charts\"\n",
              "            style=\"display:none;\">\n",
              "\n",
              "<svg xmlns=\"http://www.w3.org/2000/svg\" height=\"24px\"viewBox=\"0 0 24 24\"\n",
              "     width=\"24px\">\n",
              "    <g>\n",
              "        <path d=\"M19 3H5c-1.1 0-2 .9-2 2v14c0 1.1.9 2 2 2h14c1.1 0 2-.9 2-2V5c0-1.1-.9-2-2-2zM9 17H7v-7h2v7zm4 0h-2V7h2v10zm4 0h-2v-4h2v4z\"/>\n",
              "    </g>\n",
              "</svg>\n",
              "  </button>\n",
              "\n",
              "<style>\n",
              "  .colab-df-quickchart {\n",
              "      --bg-color: #E8F0FE;\n",
              "      --fill-color: #1967D2;\n",
              "      --hover-bg-color: #E2EBFA;\n",
              "      --hover-fill-color: #174EA6;\n",
              "      --disabled-fill-color: #AAA;\n",
              "      --disabled-bg-color: #DDD;\n",
              "  }\n",
              "\n",
              "  [theme=dark] .colab-df-quickchart {\n",
              "      --bg-color: #3B4455;\n",
              "      --fill-color: #D2E3FC;\n",
              "      --hover-bg-color: #434B5C;\n",
              "      --hover-fill-color: #FFFFFF;\n",
              "      --disabled-bg-color: #3B4455;\n",
              "      --disabled-fill-color: #666;\n",
              "  }\n",
              "\n",
              "  .colab-df-quickchart {\n",
              "    background-color: var(--bg-color);\n",
              "    border: none;\n",
              "    border-radius: 50%;\n",
              "    cursor: pointer;\n",
              "    display: none;\n",
              "    fill: var(--fill-color);\n",
              "    height: 32px;\n",
              "    padding: 0;\n",
              "    width: 32px;\n",
              "  }\n",
              "\n",
              "  .colab-df-quickchart:hover {\n",
              "    background-color: var(--hover-bg-color);\n",
              "    box-shadow: 0 1px 2px rgba(60, 64, 67, 0.3), 0 1px 3px 1px rgba(60, 64, 67, 0.15);\n",
              "    fill: var(--button-hover-fill-color);\n",
              "  }\n",
              "\n",
              "  .colab-df-quickchart-complete:disabled,\n",
              "  .colab-df-quickchart-complete:disabled:hover {\n",
              "    background-color: var(--disabled-bg-color);\n",
              "    fill: var(--disabled-fill-color);\n",
              "    box-shadow: none;\n",
              "  }\n",
              "\n",
              "  .colab-df-spinner {\n",
              "    border: 2px solid var(--fill-color);\n",
              "    border-color: transparent;\n",
              "    border-bottom-color: var(--fill-color);\n",
              "    animation:\n",
              "      spin 1s steps(1) infinite;\n",
              "  }\n",
              "\n",
              "  @keyframes spin {\n",
              "    0% {\n",
              "      border-color: transparent;\n",
              "      border-bottom-color: var(--fill-color);\n",
              "      border-left-color: var(--fill-color);\n",
              "    }\n",
              "    20% {\n",
              "      border-color: transparent;\n",
              "      border-left-color: var(--fill-color);\n",
              "      border-top-color: var(--fill-color);\n",
              "    }\n",
              "    30% {\n",
              "      border-color: transparent;\n",
              "      border-left-color: var(--fill-color);\n",
              "      border-top-color: var(--fill-color);\n",
              "      border-right-color: var(--fill-color);\n",
              "    }\n",
              "    40% {\n",
              "      border-color: transparent;\n",
              "      border-right-color: var(--fill-color);\n",
              "      border-top-color: var(--fill-color);\n",
              "    }\n",
              "    60% {\n",
              "      border-color: transparent;\n",
              "      border-right-color: var(--fill-color);\n",
              "    }\n",
              "    80% {\n",
              "      border-color: transparent;\n",
              "      border-right-color: var(--fill-color);\n",
              "      border-bottom-color: var(--fill-color);\n",
              "    }\n",
              "    90% {\n",
              "      border-color: transparent;\n",
              "      border-bottom-color: var(--fill-color);\n",
              "    }\n",
              "  }\n",
              "</style>\n",
              "\n",
              "  <script>\n",
              "    async function quickchart(key) {\n",
              "      const quickchartButtonEl =\n",
              "        document.querySelector('#' + key + ' button');\n",
              "      quickchartButtonEl.disabled = true;  // To prevent multiple clicks.\n",
              "      quickchartButtonEl.classList.add('colab-df-spinner');\n",
              "      try {\n",
              "        const charts = await google.colab.kernel.invokeFunction(\n",
              "            'suggestCharts', [key], {});\n",
              "      } catch (error) {\n",
              "        console.error('Error during call to suggestCharts:', error);\n",
              "      }\n",
              "      quickchartButtonEl.classList.remove('colab-df-spinner');\n",
              "      quickchartButtonEl.classList.add('colab-df-quickchart-complete');\n",
              "    }\n",
              "    (() => {\n",
              "      let quickchartButtonEl =\n",
              "        document.querySelector('#df-eef78dff-54d4-4eb7-9df2-af5c3a853a14 button');\n",
              "      quickchartButtonEl.style.display =\n",
              "        google.colab.kernel.accessAllowed ? 'block' : 'none';\n",
              "    })();\n",
              "  </script>\n",
              "</div>\n",
              "\n",
              "    </div>\n",
              "  </div>\n"
            ],
            "application/vnd.google.colaboratory.intrinsic+json": {
              "type": "dataframe",
              "summary": "{\n  \"name\": \"df\",\n  \"rows\": 6,\n  \"fields\": [\n    {\n      \"column\": \"Surname\",\n      \"properties\": {\n        \"dtype\": \"number\",\n        \"std\": 1387,\n        \"min\": 413,\n        \"max\": 4204,\n        \"num_unique_values\": 6,\n        \"samples\": [\n          2064,\n          1695,\n          810\n        ],\n        \"semantic_type\": \"\",\n        \"description\": \"\"\n      }\n    },\n    {\n      \"column\": \"CreditScore\",\n      \"properties\": {\n        \"dtype\": \"number\",\n        \"std\": 1387,\n        \"min\": 413,\n        \"max\": 4204,\n        \"num_unique_values\": 6,\n        \"samples\": [\n          2064,\n          1695,\n          810\n        ],\n        \"semantic_type\": \"\",\n        \"description\": \"\"\n      }\n    },\n    {\n      \"column\": \"Gender\",\n      \"properties\": {\n        \"dtype\": \"number\",\n        \"std\": 1387,\n        \"min\": 413,\n        \"max\": 4204,\n        \"num_unique_values\": 6,\n        \"samples\": [\n          2064,\n          1695,\n          810\n        ],\n        \"semantic_type\": \"\",\n        \"description\": \"\"\n      }\n    },\n    {\n      \"column\": \"Age\",\n      \"properties\": {\n        \"dtype\": \"number\",\n        \"std\": 1387,\n        \"min\": 413,\n        \"max\": 4204,\n        \"num_unique_values\": 6,\n        \"samples\": [\n          2064,\n          1695,\n          810\n        ],\n        \"semantic_type\": \"\",\n        \"description\": \"\"\n      }\n    },\n    {\n      \"column\": \"Tenure\",\n      \"properties\": {\n        \"dtype\": \"number\",\n        \"std\": 1387,\n        \"min\": 413,\n        \"max\": 4204,\n        \"num_unique_values\": 6,\n        \"samples\": [\n          2064,\n          1695,\n          810\n        ],\n        \"semantic_type\": \"\",\n        \"description\": \"\"\n      }\n    },\n    {\n      \"column\": \"Balance\",\n      \"properties\": {\n        \"dtype\": \"number\",\n        \"std\": 1387,\n        \"min\": 413,\n        \"max\": 4204,\n        \"num_unique_values\": 6,\n        \"samples\": [\n          2064,\n          1695,\n          810\n        ],\n        \"semantic_type\": \"\",\n        \"description\": \"\"\n      }\n    },\n    {\n      \"column\": \"Num Of Products\",\n      \"properties\": {\n        \"dtype\": \"number\",\n        \"std\": 1387,\n        \"min\": 413,\n        \"max\": 4204,\n        \"num_unique_values\": 6,\n        \"samples\": [\n          2064,\n          1695,\n          810\n        ],\n        \"semantic_type\": \"\",\n        \"description\": \"\"\n      }\n    },\n    {\n      \"column\": \"Has Credit Card\",\n      \"properties\": {\n        \"dtype\": \"number\",\n        \"std\": 1387,\n        \"min\": 413,\n        \"max\": 4204,\n        \"num_unique_values\": 6,\n        \"samples\": [\n          2064,\n          1695,\n          810\n        ],\n        \"semantic_type\": \"\",\n        \"description\": \"\"\n      }\n    },\n    {\n      \"column\": \"Is Active Member\",\n      \"properties\": {\n        \"dtype\": \"number\",\n        \"std\": 1387,\n        \"min\": 413,\n        \"max\": 4204,\n        \"num_unique_values\": 6,\n        \"samples\": [\n          2064,\n          1695,\n          810\n        ],\n        \"semantic_type\": \"\",\n        \"description\": \"\"\n      }\n    },\n    {\n      \"column\": \"Estimated Salary\",\n      \"properties\": {\n        \"dtype\": \"number\",\n        \"std\": 1387,\n        \"min\": 413,\n        \"max\": 4204,\n        \"num_unique_values\": 6,\n        \"samples\": [\n          2064,\n          1695,\n          810\n        ],\n        \"semantic_type\": \"\",\n        \"description\": \"\"\n      }\n    },\n    {\n      \"column\": \"Zero Balance\",\n      \"properties\": {\n        \"dtype\": \"number\",\n        \"std\": 1387,\n        \"min\": 413,\n        \"max\": 4204,\n        \"num_unique_values\": 6,\n        \"samples\": [\n          2064,\n          1695,\n          810\n        ],\n        \"semantic_type\": \"\",\n        \"description\": \"\"\n      }\n    }\n  ]\n}"
            }
          },
          "metadata": {},
          "execution_count": 129
        }
      ]
    },
    {
      "cell_type": "markdown",
      "source": [
        "DEFINE LABEL AND FEATURES"
      ],
      "metadata": {
        "id": "4cDLHyBcuDzQ"
      }
    },
    {
      "cell_type": "code",
      "source": [
        "df.columns"
      ],
      "metadata": {
        "colab": {
          "base_uri": "https://localhost:8080/"
        },
        "id": "s_4oKyzWt-FS",
        "outputId": "753f14bf-2e26-473c-f097-ad9ca8230413"
      },
      "execution_count": null,
      "outputs": [
        {
          "output_type": "execute_result",
          "data": {
            "text/plain": [
              "Index(['Surname', 'CreditScore', 'Geography', 'Gender', 'Age', 'Tenure',\n",
              "       'Balance', 'Num Of Products', 'Has Credit Card', 'Is Active Member',\n",
              "       'Estimated Salary', 'Churn', 'Zero Balance'],\n",
              "      dtype='object')"
            ]
          },
          "metadata": {},
          "execution_count": 130
        }
      ]
    },
    {
      "cell_type": "code",
      "source": [
        "X = df.drop(['Surname','Churn'],axis=1)"
      ],
      "metadata": {
        "id": "8fwTvItFvlI2"
      },
      "execution_count": null,
      "outputs": []
    },
    {
      "cell_type": "code",
      "source": [
        "Y = df['Churn']"
      ],
      "metadata": {
        "id": "LcuLOJbwvs-o"
      },
      "execution_count": null,
      "outputs": []
    },
    {
      "cell_type": "code",
      "source": [
        "X.shape,Y.shape"
      ],
      "metadata": {
        "colab": {
          "base_uri": "https://localhost:8080/"
        },
        "id": "8NWxeHVTv50p",
        "outputId": "b778af29-ee18-4eee-c542-fe40286a3d3f"
      },
      "execution_count": null,
      "outputs": [
        {
          "output_type": "execute_result",
          "data": {
            "text/plain": [
              "((10000, 11), (10000,))"
            ]
          },
          "metadata": {},
          "execution_count": 133
        }
      ]
    },
    {
      "cell_type": "markdown",
      "source": [
        "**HANDLING IMBALANCED DATA** :-\n",
        "Class imbalance is common probem in ML, especially in classification problems as ML algorithms are designed to maximize accuracy and reduce errors. If the data set is imbalance then in such cases,just by predicting the majority class we get a pretty high accuracy,but fails to capture the minority class, which is most often the point of creating the model in the first place like in\n",
        "\n",
        "1. fraud detection\n",
        "2. spam filtering\n",
        "3. diseases screening\n",
        "4. online sales churn\n",
        "5. advertising click-thoughs"
      ],
      "metadata": {
        "id": "CqHjvnv9wBMg"
      }
    },
    {
      "cell_type": "markdown",
      "source": [
        "**UNDERSAMPLING**:- can be defined as removing some observations of the majority class. This is done until the manority class is balanced out.Undersampling can be a good choice when you have a ton of data-think millons of rows.But a drawback to undersampling is that we are removing information that may be valuable.\n",
        "*Drawback to consider when undersampling is that it can cause overfitting and poor generalization to your test set.\n",
        "\n",
        "\n",
        "\n",
        "**OVERSAMPLING**:-can be defined as adding more copies to the minority class.Oversampling can be a goodchoice when you don't have a ton of data to wok with.\n",
        "The simplest implementation of over-sampling is to duplicate random records from the minority class, which can cause overfitting."
      ],
      "metadata": {
        "id": "3Nb3vAkLx-I-"
      }
    },
    {
      "cell_type": "markdown",
      "source": [
        "*SAMPLING*\n",
        "\n",
        "![Screenshot 2024-06-06 210923.png](data:image/png;base64,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)\n",
        "\n",
        "\n",
        "\n",
        "\n"
      ],
      "metadata": {
        "id": "m_-0DLudNLJe"
      }
    },
    {
      "cell_type": "markdown",
      "source": [
        "**Undersampling**"
      ],
      "metadata": {
        "id": "RpyPMkUgP7qB"
      }
    },
    {
      "cell_type": "code",
      "source": [
        "df['Churn'].value_counts()"
      ],
      "metadata": {
        "id": "6tX_vjmBxPk0",
        "colab": {
          "base_uri": "https://localhost:8080/"
        },
        "outputId": "b98236f1-b8b3-4934-d63a-aa1b99ab658d"
      },
      "execution_count": null,
      "outputs": [
        {
          "output_type": "execute_result",
          "data": {
            "text/plain": [
              "Churn\n",
              "0    7963\n",
              "1    2037\n",
              "Name: count, dtype: int64"
            ]
          },
          "metadata": {},
          "execution_count": 134
        }
      ]
    },
    {
      "cell_type": "code",
      "source": [
        "sns.countplot(x='Churn',data=df);"
      ],
      "metadata": {
        "colab": {
          "base_uri": "https://localhost:8080/",
          "height": 449
        },
        "id": "uNAfYqcsPllG",
        "outputId": "b6b0dbe3-c484-41d4-ca45-a5edb3768586"
      },
      "execution_count": null,
      "outputs": [
        {
          "output_type": "display_data",
          "data": {
            "text/plain": [
              "<Figure size 640x480 with 1 Axes>"
            ],
            "image/png": "[encoded data removed]"
          },
          "metadata": {}
        }
      ]
    },
    {
      "cell_type": "code",
      "source": [
        "X.shape , Y.shape"
      ],
      "metadata": {
        "colab": {
          "base_uri": "https://localhost:8080/"
        },
        "id": "QAfzxOkZPxGF",
        "outputId": "c9223db4-3fd0-4d18-b03a-e4543de44686"
      },
      "execution_count": null,
      "outputs": [
        {
          "output_type": "execute_result",
          "data": {
            "text/plain": [
              "((10000, 11), (10000,))"
            ]
          },
          "metadata": {},
          "execution_count": 136
        }
      ]
    },
    {
      "cell_type": "markdown",
      "source": [
        "**Random under sampling**"
      ],
      "metadata": {
        "id": "u7SphwrqQBI9"
      }
    },
    {
      "cell_type": "code",
      "source": [
        "from imblearn.under_sampling import RandomUnderSampler"
      ],
      "metadata": {
        "id": "K2tixsl4QJ63"
      },
      "execution_count": null,
      "outputs": []
    },
    {
      "cell_type": "code",
      "source": [
        "rus=RandomUnderSampler(random_state=42)\n",
        "X_rus,Y_rus=rus.fit_resample(X,Y)"
      ],
      "metadata": {
        "id": "jpN-X4TYQX3G"
      },
      "execution_count": null,
      "outputs": []
    },
    {
      "cell_type": "code",
      "source": [
        "X_rus.shape , Y_rus.shape,X.shape,Y.shape"
      ],
      "metadata": {
        "colab": {
          "base_uri": "https://localhost:8080/"
        },
        "id": "HB4Sty5PQcH3",
        "outputId": "5ad610e8-8d78-472c-84ef-5b2f9aea56c7"
      },
      "execution_count": null,
      "outputs": [
        {
          "output_type": "execute_result",
          "data": {
            "text/plain": [
              "((4074, 11), (4074,), (10000, 11), (10000,))"
            ]
          },
          "metadata": {},
          "execution_count": 139
        }
      ]
    },
    {
      "cell_type": "code",
      "source": [
        "Y_rus.value_counts()"
      ],
      "metadata": {
        "colab": {
          "base_uri": "https://localhost:8080/"
        },
        "id": "J1gV3XH4SYQT",
        "outputId": "09de85c7-5621-45f2-9d70-f63297206a02"
      },
      "execution_count": null,
      "outputs": [
        {
          "output_type": "execute_result",
          "data": {
            "text/plain": [
              "Churn\n",
              "0    2037\n",
              "1    2037\n",
              "Name: count, dtype: int64"
            ]
          },
          "metadata": {},
          "execution_count": 140
        }
      ]
    },
    {
      "cell_type": "code",
      "source": [
        "Y.value_counts()"
      ],
      "metadata": {
        "colab": {
          "base_uri": "https://localhost:8080/"
        },
        "id": "8Rb5DW_mSdda",
        "outputId": "84376735-92a5-45fa-bdbf-acd23f799ebc"
      },
      "execution_count": null,
      "outputs": [
        {
          "output_type": "execute_result",
          "data": {
            "text/plain": [
              "Churn\n",
              "0    7963\n",
              "1    2037\n",
              "Name: count, dtype: int64"
            ]
          },
          "metadata": {},
          "execution_count": 141
        }
      ]
    },
    {
      "cell_type": "code",
      "source": [
        "Y_rus.plot(kind='hist')"
      ],
      "metadata": {
        "colab": {
          "base_uri": "https://localhost:8080/",
          "height": 447
        },
        "id": "hIeSaKFFSs3c",
        "outputId": "75c00866-0a2b-49fe-f6af-6c5815ded7e4"
      },
      "execution_count": null,
      "outputs": [
        {
          "output_type": "execute_result",
          "data": {
            "text/plain": [
              "<Axes: ylabel='Frequency'>"
            ]
          },
          "metadata": {},
          "execution_count": 166
        },
        {
          "output_type": "display_data",
          "data": {
            "text/plain": [
              "<Figure size 640x480 with 1 Axes>"
            ],
            "image/png": "[encoded data removed]"
          },
          "metadata": {}
        }
      ]
    },
    {
      "cell_type": "markdown",
      "source": [
        "**RAMBON OVER SAMPLING**"
      ],
      "metadata": {
        "id": "QMfOoqxhS1tU"
      }
    },
    {
      "cell_type": "code",
      "source": [
        "from imblearn.over_sampling import RandomOverSampler"
      ],
      "metadata": {
        "id": "p1_w7hUaS7pg"
      },
      "execution_count": null,
      "outputs": []
    },
    {
      "cell_type": "code",
      "source": [
        "ros=RandomOverSampler(random_state=42)\n",
        "X_ros,Y_ros=ros.fit_resample(X,Y)"
      ],
      "metadata": {
        "id": "AxeN65cvTLqS"
      },
      "execution_count": null,
      "outputs": []
    },
    {
      "cell_type": "code",
      "source": [
        "X_ros.shape , Y_ros.shape,X.shape,Y.shape"
      ],
      "metadata": {
        "colab": {
          "base_uri": "https://localhost:8080/"
        },
        "id": "3aqM3VEMTOwF",
        "outputId": "bf000cc0-fe2a-4d23-93f6-e3656759b81a"
      },
      "execution_count": null,
      "outputs": [
        {
          "output_type": "execute_result",
          "data": {
            "text/plain": [
              "((15926, 11), (15926,), (10000, 11), (10000,))"
            ]
          },
          "metadata": {},
          "execution_count": 145
        }
      ]
    },
    {
      "cell_type": "code",
      "source": [
        "Y_ros.value_counts()"
      ],
      "metadata": {
        "colab": {
          "base_uri": "https://localhost:8080/"
        },
        "id": "bFAVHeSoTR4N",
        "outputId": "465b3ead-ee0e-4dd2-9fad-9c9a71018410"
      },
      "execution_count": null,
      "outputs": [
        {
          "output_type": "execute_result",
          "data": {
            "text/plain": [
              "Churn\n",
              "1    7963\n",
              "0    7963\n",
              "Name: count, dtype: int64"
            ]
          },
          "metadata": {},
          "execution_count": 146
        }
      ]
    },
    {
      "cell_type": "code",
      "source": [
        "Y_train_rus.value_counts()"
      ],
      "metadata": {
        "colab": {
          "base_uri": "https://localhost:8080/"
        },
        "id": "yBYmhiEiTVdT",
        "outputId": "9228fc27-2d25-45df-fa98-b723af4634c8"
      },
      "execution_count": null,
      "outputs": [
        {
          "output_type": "execute_result",
          "data": {
            "text/plain": [
              "Churn\n",
              "0    7963\n",
              "1    2037\n",
              "Name: count, dtype: int64"
            ]
          },
          "metadata": {},
          "execution_count": 147
        }
      ]
    },
    {
      "cell_type": "code",
      "source": [
        "Y_ros.plot(kind='hist')"
      ],
      "metadata": {
        "colab": {
          "base_uri": "https://localhost:8080/",
          "height": 447
        },
        "id": "jHGhkpzKTYwG",
        "outputId": "eb59e06f-fdea-4c83-d07f-810784388e47"
      },
      "execution_count": null,
      "outputs": [
        {
          "output_type": "execute_result",
          "data": {
            "text/plain": [
              "<Axes: ylabel='Frequency'>"
            ]
          },
          "metadata": {},
          "execution_count": 167
        },
        {
          "output_type": "display_data",
          "data": {
            "text/plain": [
              "<Figure size 640x480 with 1 Axes>"
            ],
            "image/png": "[encoded data removed]"
          },
          "metadata": {}
        }
      ]
    },
    {
      "cell_type": "markdown",
      "source": [
        "**TRAIN TEST SPLIT**"
      ],
      "metadata": {
        "id": "Tt6HjIBkTlXf"
      }
    },
    {
      "cell_type": "code",
      "source": [
        "from sklearn.model_selection import train_test_split"
      ],
      "metadata": {
        "id": "xHaOBoXtTkKZ"
      },
      "execution_count": null,
      "outputs": []
    },
    {
      "cell_type": "markdown",
      "source": [
        "Split original data"
      ],
      "metadata": {
        "id": "AXEaaLyVT2Jy"
      }
    },
    {
      "cell_type": "code",
      "source": [
        "X_train,X_test,Y_train,Y_test=train_test_split(Y,test_size=0.3,random_state=25)"
      ],
      "metadata": {
        "id": "FW9pibMqT1k3"
      },
      "execution_count": null,
      "outputs": []
    },
    {
      "cell_type": "markdown",
      "source": [
        "Split random under sample data"
      ],
      "metadata": {
        "id": "A6-KYTmdUmCs"
      }
    },
    {
      "cell_type": "code",
      "source": [
        "X_train_rus,X_test_rus,Y_train_rus,Y_test_rus=train_test_split(X_rus,Y_rus,test_size=0.3,random_state=25)"
      ],
      "metadata": {
        "id": "zEP8dzabUV2A"
      },
      "execution_count": null,
      "outputs": []
    },
    {
      "cell_type": "markdown",
      "source": [
        "Split random over sample data"
      ],
      "metadata": {
        "id": "QI3beHLRUqAK"
      }
    },
    {
      "cell_type": "code",
      "source": [
        "X_train_ros,X_test_ros,Y_train_ros,Y_test_ros=train_test_split(X_ros,Y_ros,test_size=0.3,random_state=25)"
      ],
      "metadata": {
        "id": "gS5kDv1JUkZ9"
      },
      "execution_count": null,
      "outputs": []
    },
    {
      "cell_type": "markdown",
      "source": [
        "**STANDARDDIZE FEATURES**"
      ],
      "metadata": {
        "id": "-6H6koKwU9RL"
      }
    },
    {
      "cell_type": "code",
      "source": [
        "from sklearn.preprocessing import StandardScaler"
      ],
      "metadata": {
        "id": "TqaD_sUDVFwW"
      },
      "execution_count": null,
      "outputs": []
    },
    {
      "cell_type": "code",
      "source": [
        "sc=StandardScaler()"
      ],
      "metadata": {
        "id": "NNYzZRAOVRRs"
      },
      "execution_count": null,
      "outputs": []
    },
    {
      "cell_type": "markdown",
      "source": [
        "Standardize original data"
      ],
      "metadata": {
        "id": "E8Rs938aVTmF"
      }
    },
    {
      "cell_type": "code",
      "source": [
        "X_train[['CreditScore','Age','Tenure','Balance', 'Estimated Salary']] == sc.fit_transform(X_train[['CreditScore','Age','Tenure','Balance', 'Estimated Salary']])"
      ],
      "metadata": {
        "colab": {
          "base_uri": "https://localhost:8080/",
          "height": 455
        },
        "id": "AMcJev_KVZp-",
        "outputId": "4f9c7a02-90a9-47b4-d7f1-7d8813e38556",
        "collapsed": true
      },
      "execution_count": null,
      "outputs": [
        {
          "output_type": "execute_result",
          "data": {
            "text/plain": [
              "            CreditScore    Age  Tenure  Balance  Estimated Salary\n",
              "CustomerId                                                       \n",
              "15610912          False  False   False    False             False\n",
              "15776824          False  False   False    False             False\n",
              "15798084          False  False   False    False             False\n",
              "15569249          False  False   False    False             False\n",
              "15771509          False  False   False    False             False\n",
              "...                 ...    ...     ...      ...               ...\n",
              "15721292          False  False   False    False             False\n",
              "15792627          False  False   False    False             False\n",
              "15690188          False  False   False    False             False\n",
              "15756301          False  False   False    False             False\n",
              "15769353          False  False   False    False             False\n",
              "\n",
              "[7000 rows x 5 columns]"
            ],
            "text/html": [
              "\n",
              "  <div id=\"df-bbf0cb3e-f851-4762-ae6a-22dfcbd4f0fc\" class=\"colab-df-container\">\n",
              "    <div>\n",
              "<style scoped>\n",
              "    .dataframe tbody tr th:only-of-type {\n",
              "        vertical-align: middle;\n",
              "    }\n",
              "\n",
              "    .dataframe tbody tr th {\n",
              "        vertical-align: top;\n",
              "    }\n",
              "\n",
              "    .dataframe thead th {\n",
              "        text-align: right;\n",
              "    }\n",
              "</style>\n",
              "<table border=\"1\" class=\"dataframe\">\n",
              "  <thead>\n",
              "    <tr style=\"text-align: right;\">\n",
              "      <th></th>\n",
              "      <th>CreditScore</th>\n",
              "      <th>Age</th>\n",
              "      <th>Tenure</th>\n",
              "      <th>Balance</th>\n",
              "      <th>Estimated Salary</th>\n",
              "    </tr>\n",
              "    <tr>\n",
              "      <th>CustomerId</th>\n",
              "      <th></th>\n",
              "      <th></th>\n",
              "      <th></th>\n",
              "      <th></th>\n",
              "      <th></th>\n",
              "    </tr>\n",
              "  </thead>\n",
              "  <tbody>\n",
              "    <tr>\n",
              "      <th>15610912</th>\n",
              "      <td>False</td>\n",
              "      <td>False</td>\n",
              "      <td>False</td>\n",
              "      <td>False</td>\n",
              "      <td>False</td>\n",
              "    </tr>\n",
              "    <tr>\n",
              "      <th>15776824</th>\n",
              "      <td>False</td>\n",
              "      <td>False</td>\n",
              "      <td>False</td>\n",
              "      <td>False</td>\n",
              "      <td>False</td>\n",
              "    </tr>\n",
              "    <tr>\n",
              "      <th>15798084</th>\n",
              "      <td>False</td>\n",
              "      <td>False</td>\n",
              "      <td>False</td>\n",
              "      <td>False</td>\n",
              "      <td>False</td>\n",
              "    </tr>\n",
              "    <tr>\n",
              "      <th>15569249</th>\n",
              "      <td>False</td>\n",
              "      <td>False</td>\n",
              "      <td>False</td>\n",
              "      <td>False</td>\n",
              "      <td>False</td>\n",
              "    </tr>\n",
              "    <tr>\n",
              "      <th>15771509</th>\n",
              "      <td>False</td>\n",
              "      <td>False</td>\n",
              "      <td>False</td>\n",
              "      <td>False</td>\n",
              "      <td>False</td>\n",
              "    </tr>\n",
              "    <tr>\n",
              "      <th>...</th>\n",
              "      <td>...</td>\n",
              "      <td>...</td>\n",
              "      <td>...</td>\n",
              "      <td>...</td>\n",
              "      <td>...</td>\n",
              "    </tr>\n",
              "    <tr>\n",
              "      <th>15721292</th>\n",
              "      <td>False</td>\n",
              "      <td>False</td>\n",
              "      <td>False</td>\n",
              "      <td>False</td>\n",
              "      <td>False</td>\n",
              "    </tr>\n",
              "    <tr>\n",
              "      <th>15792627</th>\n",
              "      <td>False</td>\n",
              "      <td>False</td>\n",
              "      <td>False</td>\n",
              "      <td>False</td>\n",
              "      <td>False</td>\n",
              "    </tr>\n",
              "    <tr>\n",
              "      <th>15690188</th>\n",
              "      <td>False</td>\n",
              "      <td>False</td>\n",
              "      <td>False</td>\n",
              "      <td>False</td>\n",
              "      <td>False</td>\n",
              "    </tr>\n",
              "    <tr>\n",
              "      <th>15756301</th>\n",
              "      <td>False</td>\n",
              "      <td>False</td>\n",
              "      <td>False</td>\n",
              "      <td>False</td>\n",
              "      <td>False</td>\n",
              "    </tr>\n",
              "    <tr>\n",
              "      <th>15769353</th>\n",
              "      <td>False</td>\n",
              "      <td>False</td>\n",
              "      <td>False</td>\n",
              "      <td>False</td>\n",
              "      <td>False</td>\n",
              "    </tr>\n",
              "  </tbody>\n",
              "</table>\n",
              "<p>7000 rows × 5 columns</p>\n",
              "</div>\n",
              "    <div class=\"colab-df-buttons\">\n",
              "\n",
              "  <div class=\"colab-df-container\">\n",
              "    <button class=\"colab-df-convert\" onclick=\"convertToInteractive('df-bbf0cb3e-f851-4762-ae6a-22dfcbd4f0fc')\"\n",
              "            title=\"Convert this dataframe to an interactive table.\"\n",
              "            style=\"display:none;\">\n",
              "\n",
              "  <svg xmlns=\"http://www.w3.org/2000/svg\" height=\"24px\" viewBox=\"0 -960 960 960\">\n",
              "    <path d=\"M120-120v-720h720v720H120Zm60-500h600v-160H180v160Zm220 220h160v-160H400v160Zm0 220h160v-160H400v160ZM180-400h160v-160H180v160Zm440 0h160v-160H620v160ZM180-180h160v-160H180v160Zm440 0h160v-160H620v160Z\"/>\n",
              "  </svg>\n",
              "    </button>\n",
              "\n",
              "  <style>\n",
              "    .colab-df-container {\n",
              "      display:flex;\n",
              "      gap: 12px;\n",
              "    }\n",
              "\n",
              "    .colab-df-convert {\n",
              "      background-color: #E8F0FE;\n",
              "      border: none;\n",
              "      border-radius: 50%;\n",
              "      cursor: pointer;\n",
              "      display: none;\n",
              "      fill: #1967D2;\n",
              "      height: 32px;\n",
              "      padding: 0 0 0 0;\n",
              "      width: 32px;\n",
              "    }\n",
              "\n",
              "    .colab-df-convert:hover {\n",
              "      background-color: #E2EBFA;\n",
              "      box-shadow: 0px 1px 2px rgba(60, 64, 67, 0.3), 0px 1px 3px 1px rgba(60, 64, 67, 0.15);\n",
              "      fill: #174EA6;\n",
              "    }\n",
              "\n",
              "    .colab-df-buttons div {\n",
              "      margin-bottom: 4px;\n",
              "    }\n",
              "\n",
              "    [theme=dark] .colab-df-convert {\n",
              "      background-color: #3B4455;\n",
              "      fill: #D2E3FC;\n",
              "    }\n",
              "\n",
              "    [theme=dark] .colab-df-convert:hover {\n",
              "      background-color: #434B5C;\n",
              "      box-shadow: 0px 1px 3px 1px rgba(0, 0, 0, 0.15);\n",
              "      filter: drop-shadow(0px 1px 2px rgba(0, 0, 0, 0.3));\n",
              "      fill: #FFFFFF;\n",
              "    }\n",
              "  </style>\n",
              "\n",
              "    <script>\n",
              "      const buttonEl =\n",
              "        document.querySelector('#df-bbf0cb3e-f851-4762-ae6a-22dfcbd4f0fc button.colab-df-convert');\n",
              "      buttonEl.style.display =\n",
              "        google.colab.kernel.accessAllowed ? 'block' : 'none';\n",
              "\n",
              "      async function convertToInteractive(key) {\n",
              "        const element = document.querySelector('#df-bbf0cb3e-f851-4762-ae6a-22dfcbd4f0fc');\n",
              "        const dataTable =\n",
              "          await google.colab.kernel.invokeFunction('convertToInteractive',\n",
              "                                                    [key], {});\n",
              "        if (!dataTable) return;\n",
              "\n",
              "        const docLinkHtml = 'Like what you see? Visit the ' +\n",
              "          '<a target=\"_blank\" href=https://colab.research.google.com/notebooks/data_table.ipynb>data table notebook</a>'\n",
              "          + ' to learn more about interactive tables.';\n",
              "        element.innerHTML = '';\n",
              "        dataTable['output_type'] = 'display_data';\n",
              "        await google.colab.output.renderOutput(dataTable, element);\n",
              "        const docLink = document.createElement('div');\n",
              "        docLink.innerHTML = docLinkHtml;\n",
              "        element.appendChild(docLink);\n",
              "      }\n",
              "    </script>\n",
              "  </div>\n",
              "\n",
              "\n",
              "<div id=\"df-89025251-d64b-4f5b-bc54-5644e9885ca4\">\n",
              "  <button class=\"colab-df-quickchart\" onclick=\"quickchart('df-89025251-d64b-4f5b-bc54-5644e9885ca4')\"\n",
              "            title=\"Suggest charts\"\n",
              "            style=\"display:none;\">\n",
              "\n",
              "<svg xmlns=\"http://www.w3.org/2000/svg\" height=\"24px\"viewBox=\"0 0 24 24\"\n",
              "     width=\"24px\">\n",
              "    <g>\n",
              "        <path d=\"M19 3H5c-1.1 0-2 .9-2 2v14c0 1.1.9 2 2 2h14c1.1 0 2-.9 2-2V5c0-1.1-.9-2-2-2zM9 17H7v-7h2v7zm4 0h-2V7h2v10zm4 0h-2v-4h2v4z\"/>\n",
              "    </g>\n",
              "</svg>\n",
              "  </button>\n",
              "\n",
              "<style>\n",
              "  .colab-df-quickchart {\n",
              "      --bg-color: #E8F0FE;\n",
              "      --fill-color: #1967D2;\n",
              "      --hover-bg-color: #E2EBFA;\n",
              "      --hover-fill-color: #174EA6;\n",
              "      --disabled-fill-color: #AAA;\n",
              "      --disabled-bg-color: #DDD;\n",
              "  }\n",
              "\n",
              "  [theme=dark] .colab-df-quickchart {\n",
              "      --bg-color: #3B4455;\n",
              "      --fill-color: #D2E3FC;\n",
              "      --hover-bg-color: #434B5C;\n",
              "      --hover-fill-color: #FFFFFF;\n",
              "      --disabled-bg-color: #3B4455;\n",
              "      --disabled-fill-color: #666;\n",
              "  }\n",
              "\n",
              "  .colab-df-quickchart {\n",
              "    background-color: var(--bg-color);\n",
              "    border: none;\n",
              "    border-radius: 50%;\n",
              "    cursor: pointer;\n",
              "    display: none;\n",
              "    fill: var(--fill-color);\n",
              "    height: 32px;\n",
              "    padding: 0;\n",
              "    width: 32px;\n",
              "  }\n",
              "\n",
              "  .colab-df-quickchart:hover {\n",
              "    background-color: var(--hover-bg-color);\n",
              "    box-shadow: 0 1px 2px rgba(60, 64, 67, 0.3), 0 1px 3px 1px rgba(60, 64, 67, 0.15);\n",
              "    fill: var(--button-hover-fill-color);\n",
              "  }\n",
              "\n",
              "  .colab-df-quickchart-complete:disabled,\n",
              "  .colab-df-quickchart-complete:disabled:hover {\n",
              "    background-color: var(--disabled-bg-color);\n",
              "    fill: var(--disabled-fill-color);\n",
              "    box-shadow: none;\n",
              "  }\n",
              "\n",
              "  .colab-df-spinner {\n",
              "    border: 2px solid var(--fill-color);\n",
              "    border-color: transparent;\n",
              "    border-bottom-color: var(--fill-color);\n",
              "    animation:\n",
              "      spin 1s steps(1) infinite;\n",
              "  }\n",
              "\n",
              "  @keyframes spin {\n",
              "    0% {\n",
              "      border-color: transparent;\n",
              "      border-bottom-color: var(--fill-color);\n",
              "      border-left-color: var(--fill-color);\n",
              "    }\n",
              "    20% {\n",
              "      border-color: transparent;\n",
              "      border-left-color: var(--fill-color);\n",
              "      border-top-color: var(--fill-color);\n",
              "    }\n",
              "    30% {\n",
              "      border-color: transparent;\n",
              "      border-left-color: var(--fill-color);\n",
              "      border-top-color: var(--fill-color);\n",
              "      border-right-color: var(--fill-color);\n",
              "    }\n",
              "    40% {\n",
              "      border-color: transparent;\n",
              "      border-right-color: var(--fill-color);\n",
              "      border-top-color: var(--fill-color);\n",
              "    }\n",
              "    60% {\n",
              "      border-color: transparent;\n",
              "      border-right-color: var(--fill-color);\n",
              "    }\n",
              "    80% {\n",
              "      border-color: transparent;\n",
              "      border-right-color: var(--fill-color);\n",
              "      border-bottom-color: var(--fill-color);\n",
              "    }\n",
              "    90% {\n",
              "      border-color: transparent;\n",
              "      border-bottom-color: var(--fill-color);\n",
              "    }\n",
              "  }\n",
              "</style>\n",
              "\n",
              "  <script>\n",
              "    async function quickchart(key) {\n",
              "      const quickchartButtonEl =\n",
              "        document.querySelector('#' + key + ' button');\n",
              "      quickchartButtonEl.disabled = true;  // To prevent multiple clicks.\n",
              "      quickchartButtonEl.classList.add('colab-df-spinner');\n",
              "      try {\n",
              "        const charts = await google.colab.kernel.invokeFunction(\n",
              "            'suggestCharts', [key], {});\n",
              "      } catch (error) {\n",
              "        console.error('Error during call to suggestCharts:', error);\n",
              "      }\n",
              "      quickchartButtonEl.classList.remove('colab-df-spinner');\n",
              "      quickchartButtonEl.classList.add('colab-df-quickchart-complete');\n",
              "    }\n",
              "    (() => {\n",
              "      let quickchartButtonEl =\n",
              "        document.querySelector('#df-89025251-d64b-4f5b-bc54-5644e9885ca4 button');\n",
              "      quickchartButtonEl.style.display =\n",
              "        google.colab.kernel.accessAllowed ? 'block' : 'none';\n",
              "    })();\n",
              "  </script>\n",
              "</div>\n",
              "\n",
              "    </div>\n",
              "  </div>\n"
            ],
            "application/vnd.google.colaboratory.intrinsic+json": {
              "type": "dataframe",
              "summary": "{\n  \"name\": \"X_train[['CreditScore','Age','Tenure','Balance', 'Estimated Salary']] == sc\",\n  \"rows\": 7000,\n  \"fields\": [\n    {\n      \"column\": \"CustomerId\",\n      \"properties\": {\n        \"dtype\": \"number\",\n        \"std\": 71960,\n        \"min\": 15565701,\n        \"max\": 15815690,\n        \"num_unique_values\": 7000,\n        \"samples\": [\n          15598259,\n          15625445,\n          15649379\n        ],\n        \"semantic_type\": \"\",\n        \"description\": \"\"\n      }\n    },\n    {\n      \"column\": \"CreditScore\",\n      \"properties\": {\n        \"dtype\": \"boolean\",\n        \"num_unique_values\": 1,\n        \"samples\": [\n          false\n        ],\n        \"semantic_type\": \"\",\n        \"description\": \"\"\n      }\n    },\n    {\n      \"column\": \"Age\",\n      \"properties\": {\n        \"dtype\": \"boolean\",\n        \"num_unique_values\": 1,\n        \"samples\": [\n          false\n        ],\n        \"semantic_type\": \"\",\n        \"description\": \"\"\n      }\n    },\n    {\n      \"column\": \"Tenure\",\n      \"properties\": {\n        \"dtype\": \"boolean\",\n        \"num_unique_values\": 1,\n        \"samples\": [\n          false\n        ],\n        \"semantic_type\": \"\",\n        \"description\": \"\"\n      }\n    },\n    {\n      \"column\": \"Balance\",\n      \"properties\": {\n        \"dtype\": \"boolean\",\n        \"num_unique_values\": 1,\n        \"samples\": [\n          false\n        ],\n        \"semantic_type\": \"\",\n        \"description\": \"\"\n      }\n    },\n    {\n      \"column\": \"Estimated Salary\",\n      \"properties\": {\n        \"dtype\": \"boolean\",\n        \"num_unique_values\": 1,\n        \"samples\": [\n          false\n        ],\n        \"semantic_type\": \"\",\n        \"description\": \"\"\n      }\n    }\n  ]\n}"
            }
          },
          "metadata": {},
          "execution_count": 171
        }
      ]
    },
    {
      "cell_type": "code",
      "source": [
        "X_test[[ 'CreditScore','Age','Tenure','Balance', 'Estimated Salary']] == sc.fit_transform(X_test[['CreditScore','Age','Tenure','Balance', 'Estimated Salary']])"
      ],
      "metadata": {
        "colab": {
          "base_uri": "https://localhost:8080/",
          "height": 455
        },
        "id": "9tNcQFgVYnkn",
        "outputId": "aca3797f-9a3e-4122-b4b0-aa3651f9c21f",
        "collapsed": true
      },
      "execution_count": null,
      "outputs": [
        {
          "output_type": "execute_result",
          "data": {
            "text/plain": [
              "            CreditScore    Age  Tenure  Balance  Estimated Salary\n",
              "CustomerId                                                       \n",
              "15629094          False  False   False    False             False\n",
              "15690440          False  False   False    False             False\n",
              "15678333          False  False   False    False             False\n",
              "15709861          False  False   False    False             False\n",
              "15620579          False  False   False    False             False\n",
              "...                 ...    ...     ...      ...               ...\n",
              "15640866          False  False   False    False             False\n",
              "15585133          False  False   False    False             False\n",
              "15591698          False  False   False    False             False\n",
              "15649450          False  False   False    False             False\n",
              "15609998          False  False   False    False             False\n",
              "\n",
              "[3000 rows x 5 columns]"
            ],
            "text/html": [
              "\n",
              "  <div id=\"df-b1ed3e7c-eac0-4540-b20c-f2d95d3580df\" class=\"colab-df-container\">\n",
              "    <div>\n",
              "<style scoped>\n",
              "    .dataframe tbody tr th:only-of-type {\n",
              "        vertical-align: middle;\n",
              "    }\n",
              "\n",
              "    .dataframe tbody tr th {\n",
              "        vertical-align: top;\n",
              "    }\n",
              "\n",
              "    .dataframe thead th {\n",
              "        text-align: right;\n",
              "    }\n",
              "</style>\n",
              "<table border=\"1\" class=\"dataframe\">\n",
              "  <thead>\n",
              "    <tr style=\"text-align: right;\">\n",
              "      <th></th>\n",
              "      <th>CreditScore</th>\n",
              "      <th>Age</th>\n",
              "      <th>Tenure</th>\n",
              "      <th>Balance</th>\n",
              "      <th>Estimated Salary</th>\n",
              "    </tr>\n",
              "    <tr>\n",
              "      <th>CustomerId</th>\n",
              "      <th></th>\n",
              "      <th></th>\n",
              "      <th></th>\n",
              "      <th></th>\n",
              "      <th></th>\n",
              "    </tr>\n",
              "  </thead>\n",
              "  <tbody>\n",
              "    <tr>\n",
              "      <th>15629094</th>\n",
              "      <td>False</td>\n",
              "      <td>False</td>\n",
              "      <td>False</td>\n",
              "      <td>False</td>\n",
              "      <td>False</td>\n",
              "    </tr>\n",
              "    <tr>\n",
              "      <th>15690440</th>\n",
              "      <td>False</td>\n",
              "      <td>False</td>\n",
              "      <td>False</td>\n",
              "      <td>False</td>\n",
              "      <td>False</td>\n",
              "    </tr>\n",
              "    <tr>\n",
              "      <th>15678333</th>\n",
              "      <td>False</td>\n",
              "      <td>False</td>\n",
              "      <td>False</td>\n",
              "      <td>False</td>\n",
              "      <td>False</td>\n",
              "    </tr>\n",
              "    <tr>\n",
              "      <th>15709861</th>\n",
              "      <td>False</td>\n",
              "      <td>False</td>\n",
              "      <td>False</td>\n",
              "      <td>False</td>\n",
              "      <td>False</td>\n",
              "    </tr>\n",
              "    <tr>\n",
              "      <th>15620579</th>\n",
              "      <td>False</td>\n",
              "      <td>False</td>\n",
              "      <td>False</td>\n",
              "      <td>False</td>\n",
              "      <td>False</td>\n",
              "    </tr>\n",
              "    <tr>\n",
              "      <th>...</th>\n",
              "      <td>...</td>\n",
              "      <td>...</td>\n",
              "      <td>...</td>\n",
              "      <td>...</td>\n",
              "      <td>...</td>\n",
              "    </tr>\n",
              "    <tr>\n",
              "      <th>15640866</th>\n",
              "      <td>False</td>\n",
              "      <td>False</td>\n",
              "      <td>False</td>\n",
              "      <td>False</td>\n",
              "      <td>False</td>\n",
              "    </tr>\n",
              "    <tr>\n",
              "      <th>15585133</th>\n",
              "      <td>False</td>\n",
              "      <td>False</td>\n",
              "      <td>False</td>\n",
              "      <td>False</td>\n",
              "      <td>False</td>\n",
              "    </tr>\n",
              "    <tr>\n",
              "      <th>15591698</th>\n",
              "      <td>False</td>\n",
              "      <td>False</td>\n",
              "      <td>False</td>\n",
              "      <td>False</td>\n",
              "      <td>False</td>\n",
              "    </tr>\n",
              "    <tr>\n",
              "      <th>15649450</th>\n",
              "      <td>False</td>\n",
              "      <td>False</td>\n",
              "      <td>False</td>\n",
              "      <td>False</td>\n",
              "      <td>False</td>\n",
              "    </tr>\n",
              "    <tr>\n",
              "      <th>15609998</th>\n",
              "      <td>False</td>\n",
              "      <td>False</td>\n",
              "      <td>False</td>\n",
              "      <td>False</td>\n",
              "      <td>False</td>\n",
              "    </tr>\n",
              "  </tbody>\n",
              "</table>\n",
              "<p>3000 rows × 5 columns</p>\n",
              "</div>\n",
              "    <div class=\"colab-df-buttons\">\n",
              "\n",
              "  <div class=\"colab-df-container\">\n",
              "    <button class=\"colab-df-convert\" onclick=\"convertToInteractive('df-b1ed3e7c-eac0-4540-b20c-f2d95d3580df')\"\n",
              "            title=\"Convert this dataframe to an interactive table.\"\n",
              "            style=\"display:none;\">\n",
              "\n",
              "  <svg xmlns=\"http://www.w3.org/2000/svg\" height=\"24px\" viewBox=\"0 -960 960 960\">\n",
              "    <path d=\"M120-120v-720h720v720H120Zm60-500h600v-160H180v160Zm220 220h160v-160H400v160Zm0 220h160v-160H400v160ZM180-400h160v-160H180v160Zm440 0h160v-160H620v160ZM180-180h160v-160H180v160Zm440 0h160v-160H620v160Z\"/>\n",
              "  </svg>\n",
              "    </button>\n",
              "\n",
              "  <style>\n",
              "    .colab-df-container {\n",
              "      display:flex;\n",
              "      gap: 12px;\n",
              "    }\n",
              "\n",
              "    .colab-df-convert {\n",
              "      background-color: #E8F0FE;\n",
              "      border: none;\n",
              "      border-radius: 50%;\n",
              "      cursor: pointer;\n",
              "      display: none;\n",
              "      fill: #1967D2;\n",
              "      height: 32px;\n",
              "      padding: 0 0 0 0;\n",
              "      width: 32px;\n",
              "    }\n",
              "\n",
              "    .colab-df-convert:hover {\n",
              "      background-color: #E2EBFA;\n",
              "      box-shadow: 0px 1px 2px rgba(60, 64, 67, 0.3), 0px 1px 3px 1px rgba(60, 64, 67, 0.15);\n",
              "      fill: #174EA6;\n",
              "    }\n",
              "\n",
              "    .colab-df-buttons div {\n",
              "      margin-bottom: 4px;\n",
              "    }\n",
              "\n",
              "    [theme=dark] .colab-df-convert {\n",
              "      background-color: #3B4455;\n",
              "      fill: #D2E3FC;\n",
              "    }\n",
              "\n",
              "    [theme=dark] .colab-df-convert:hover {\n",
              "      background-color: #434B5C;\n",
              "      box-shadow: 0px 1px 3px 1px rgba(0, 0, 0, 0.15);\n",
              "      filter: drop-shadow(0px 1px 2px rgba(0, 0, 0, 0.3));\n",
              "      fill: #FFFFFF;\n",
              "    }\n",
              "  </style>\n",
              "\n",
              "    <script>\n",
              "      const buttonEl =\n",
              "        document.querySelector('#df-b1ed3e7c-eac0-4540-b20c-f2d95d3580df button.colab-df-convert');\n",
              "      buttonEl.style.display =\n",
              "        google.colab.kernel.accessAllowed ? 'block' : 'none';\n",
              "\n",
              "      async function convertToInteractive(key) {\n",
              "        const element = document.querySelector('#df-b1ed3e7c-eac0-4540-b20c-f2d95d3580df');\n",
              "        const dataTable =\n",
              "          await google.colab.kernel.invokeFunction('convertToInteractive',\n",
              "                                                    [key], {});\n",
              "        if (!dataTable) return;\n",
              "\n",
              "        const docLinkHtml = 'Like what you see? Visit the ' +\n",
              "          '<a target=\"_blank\" href=https://colab.research.google.com/notebooks/data_table.ipynb>data table notebook</a>'\n",
              "          + ' to learn more about interactive tables.';\n",
              "        element.innerHTML = '';\n",
              "        dataTable['output_type'] = 'display_data';\n",
              "        await google.colab.output.renderOutput(dataTable, element);\n",
              "        const docLink = document.createElement('div');\n",
              "        docLink.innerHTML = docLinkHtml;\n",
              "        element.appendChild(docLink);\n",
              "      }\n",
              "    </script>\n",
              "  </div>\n",
              "\n",
              "\n",
              "<div id=\"df-fae9ca83-2712-449b-8e13-15203a4474a2\">\n",
              "  <button class=\"colab-df-quickchart\" onclick=\"quickchart('df-fae9ca83-2712-449b-8e13-15203a4474a2')\"\n",
              "            title=\"Suggest charts\"\n",
              "            style=\"display:none;\">\n",
              "\n",
              "<svg xmlns=\"http://www.w3.org/2000/svg\" height=\"24px\"viewBox=\"0 0 24 24\"\n",
              "     width=\"24px\">\n",
              "    <g>\n",
              "        <path d=\"M19 3H5c-1.1 0-2 .9-2 2v14c0 1.1.9 2 2 2h14c1.1 0 2-.9 2-2V5c0-1.1-.9-2-2-2zM9 17H7v-7h2v7zm4 0h-2V7h2v10zm4 0h-2v-4h2v4z\"/>\n",
              "    </g>\n",
              "</svg>\n",
              "  </button>\n",
              "\n",
              "<style>\n",
              "  .colab-df-quickchart {\n",
              "      --bg-color: #E8F0FE;\n",
              "      --fill-color: #1967D2;\n",
              "      --hover-bg-color: #E2EBFA;\n",
              "      --hover-fill-color: #174EA6;\n",
              "      --disabled-fill-color: #AAA;\n",
              "      --disabled-bg-color: #DDD;\n",
              "  }\n",
              "\n",
              "  [theme=dark] .colab-df-quickchart {\n",
              "      --bg-color: #3B4455;\n",
              "      --fill-color: #D2E3FC;\n",
              "      --hover-bg-color: #434B5C;\n",
              "      --hover-fill-color: #FFFFFF;\n",
              "      --disabled-bg-color: #3B4455;\n",
              "      --disabled-fill-color: #666;\n",
              "  }\n",
              "\n",
              "  .colab-df-quickchart {\n",
              "    background-color: var(--bg-color);\n",
              "    border: none;\n",
              "    border-radius: 50%;\n",
              "    cursor: pointer;\n",
              "    display: none;\n",
              "    fill: var(--fill-color);\n",
              "    height: 32px;\n",
              "    padding: 0;\n",
              "    width: 32px;\n",
              "  }\n",
              "\n",
              "  .colab-df-quickchart:hover {\n",
              "    background-color: var(--hover-bg-color);\n",
              "    box-shadow: 0 1px 2px rgba(60, 64, 67, 0.3), 0 1px 3px 1px rgba(60, 64, 67, 0.15);\n",
              "    fill: var(--button-hover-fill-color);\n",
              "  }\n",
              "\n",
              "  .colab-df-quickchart-complete:disabled,\n",
              "  .colab-df-quickchart-complete:disabled:hover {\n",
              "    background-color: var(--disabled-bg-color);\n",
              "    fill: var(--disabled-fill-color);\n",
              "    box-shadow: none;\n",
              "  }\n",
              "\n",
              "  .colab-df-spinner {\n",
              "    border: 2px solid var(--fill-color);\n",
              "    border-color: transparent;\n",
              "    border-bottom-color: var(--fill-color);\n",
              "    animation:\n",
              "      spin 1s steps(1) infinite;\n",
              "  }\n",
              "\n",
              "  @keyframes spin {\n",
              "    0% {\n",
              "      border-color: transparent;\n",
              "      border-bottom-color: var(--fill-color);\n",
              "      border-left-color: var(--fill-color);\n",
              "    }\n",
              "    20% {\n",
              "      border-color: transparent;\n",
              "      border-left-color: var(--fill-color);\n",
              "      border-top-color: var(--fill-color);\n",
              "    }\n",
              "    30% {\n",
              "      border-color: transparent;\n",
              "      border-left-color: var(--fill-color);\n",
              "      border-top-color: var(--fill-color);\n",
              "      border-right-color: var(--fill-color);\n",
              "    }\n",
              "    40% {\n",
              "      border-color: transparent;\n",
              "      border-right-color: var(--fill-color);\n",
              "      border-top-color: var(--fill-color);\n",
              "    }\n",
              "    60% {\n",
              "      border-color: transparent;\n",
              "      border-right-color: var(--fill-color);\n",
              "    }\n",
              "    80% {\n",
              "      border-color: transparent;\n",
              "      border-right-color: var(--fill-color);\n",
              "      border-bottom-color: var(--fill-color);\n",
              "    }\n",
              "    90% {\n",
              "      border-color: transparent;\n",
              "      border-bottom-color: var(--fill-color);\n",
              "    }\n",
              "  }\n",
              "</style>\n",
              "\n",
              "  <script>\n",
              "    async function quickchart(key) {\n",
              "      const quickchartButtonEl =\n",
              "        document.querySelector('#' + key + ' button');\n",
              "      quickchartButtonEl.disabled = true;  // To prevent multiple clicks.\n",
              "      quickchartButtonEl.classList.add('colab-df-spinner');\n",
              "      try {\n",
              "        const charts = await google.colab.kernel.invokeFunction(\n",
              "            'suggestCharts', [key], {});\n",
              "      } catch (error) {\n",
              "        console.error('Error during call to suggestCharts:', error);\n",
              "      }\n",
              "      quickchartButtonEl.classList.remove('colab-df-spinner');\n",
              "      quickchartButtonEl.classList.add('colab-df-quickchart-complete');\n",
              "    }\n",
              "    (() => {\n",
              "      let quickchartButtonEl =\n",
              "        document.querySelector('#df-fae9ca83-2712-449b-8e13-15203a4474a2 button');\n",
              "      quickchartButtonEl.style.display =\n",
              "        google.colab.kernel.accessAllowed ? 'block' : 'none';\n",
              "    })();\n",
              "  </script>\n",
              "</div>\n",
              "\n",
              "    </div>\n",
              "  </div>\n"
            ],
            "application/vnd.google.colaboratory.intrinsic+json": {
              "type": "dataframe",
              "summary": "{\n  \"name\": \"X_test[[ 'CreditScore','Age','Tenure','Balance', 'Estimated Salary']] == sc\",\n  \"rows\": 3000,\n  \"fields\": [\n    {\n      \"column\": \"CustomerId\",\n      \"properties\": {\n        \"dtype\": \"number\",\n        \"std\": 71886,\n        \"min\": 15565714,\n        \"max\": 15815660,\n        \"num_unique_values\": 3000,\n        \"samples\": [\n          15725660,\n          15752139,\n          15754526\n        ],\n        \"semantic_type\": \"\",\n        \"description\": \"\"\n      }\n    },\n    {\n      \"column\": \"CreditScore\",\n      \"properties\": {\n        \"dtype\": \"boolean\",\n        \"num_unique_values\": 1,\n        \"samples\": [\n          false\n        ],\n        \"semantic_type\": \"\",\n        \"description\": \"\"\n      }\n    },\n    {\n      \"column\": \"Age\",\n      \"properties\": {\n        \"dtype\": \"boolean\",\n        \"num_unique_values\": 1,\n        \"samples\": [\n          false\n        ],\n        \"semantic_type\": \"\",\n        \"description\": \"\"\n      }\n    },\n    {\n      \"column\": \"Tenure\",\n      \"properties\": {\n        \"dtype\": \"boolean\",\n        \"num_unique_values\": 1,\n        \"samples\": [\n          false\n        ],\n        \"semantic_type\": \"\",\n        \"description\": \"\"\n      }\n    },\n    {\n      \"column\": \"Balance\",\n      \"properties\": {\n        \"dtype\": \"boolean\",\n        \"num_unique_values\": 1,\n        \"samples\": [\n          false\n        ],\n        \"semantic_type\": \"\",\n        \"description\": \"\"\n      }\n    },\n    {\n      \"column\": \"Estimated Salary\",\n      \"properties\": {\n        \"dtype\": \"boolean\",\n        \"num_unique_values\": 1,\n        \"samples\": [\n          false\n        ],\n        \"semantic_type\": \"\",\n        \"description\": \"\"\n      }\n    }\n  ]\n}"
            }
          },
          "metadata": {},
          "execution_count": 172
        }
      ]
    },
    {
      "cell_type": "markdown",
      "source": [
        "Standardize random under sapmple  data"
      ],
      "metadata": {
        "id": "24U4kuUyZFm6"
      }
    },
    {
      "cell_type": "code",
      "source": [
        "X_train_rus[['CreditScore','Age','Tenure','Balance']]=sc.fit_transform(X_train_rus[['CreditScore','Age','Tenure','Balance']])"
      ],
      "metadata": {
        "id": "upg4Yg9kZE7g"
      },
      "execution_count": null,
      "outputs": []
    },
    {
      "cell_type": "code",
      "source": [
        "X_test_rus[['CreditScore','Age','Tenure','Balance']]=sc.fit_transform(X_test_rus[['CreditScore','Age','Tenure','Balance']])"
      ],
      "metadata": {
        "id": "Cn8Tll9UZfmm"
      },
      "execution_count": null,
      "outputs": []
    },
    {
      "cell_type": "markdown",
      "source": [
        "Standardize random over sample data"
      ],
      "metadata": {
        "id": "c2dTLfK0ZjIq"
      }
    },
    {
      "cell_type": "code",
      "source": [
        "X_train_ros[['CreditScore','Age','Tenure','Balance']]=sc.fit_transform(X_train_ros[['CreditScore','Age','Tenure','Balance']])"
      ],
      "metadata": {
        "id": "Mxbe_tpSZoUD"
      },
      "execution_count": null,
      "outputs": []
    },
    {
      "cell_type": "code",
      "source": [
        "X_test_ros[['CreditScore','Age','Tenure','Balance']]=sc.fit_transform(X_test_ros[['CreditScore','Age','Tenure','Balance']])"
      ],
      "metadata": {
        "id": "ML2Hxa5pZ_Pi"
      },
      "execution_count": null,
      "outputs": []
    },
    {
      "cell_type": "markdown",
      "source": [
        "***SUPPORT VECTOR MACHINE CLASSIFIER***"
      ],
      "metadata": {
        "id": "SV3hbmVkaTLL"
      }
    },
    {
      "cell_type": "code",
      "source": [
        "from sklearn.svm import SVC"
      ],
      "metadata": {
        "id": "yUdSTFaXahZA"
      },
      "execution_count": null,
      "outputs": []
    },
    {
      "cell_type": "code",
      "source": [
        "svc=SVC()"
      ],
      "metadata": {
        "id": "H3eebgi0amCm"
      },
      "execution_count": null,
      "outputs": []
    },
    {
      "cell_type": "code",
      "source": [
        "svc.fit(X_train,Y_train)"
      ],
      "metadata": {
        "colab": {
          "base_uri": "https://localhost:8080/",
          "height": 74
        },
        "id": "2Ni47jq4apa5",
        "outputId": "6add750e-131f-4cac-864b-9b99794e153b"
      },
      "execution_count": null,
      "outputs": [
        {
          "output_type": "execute_result",
          "data": {
            "text/plain": [
              "SVC()"
            ],
            "text/html": [
              "<style>#sk-container-id-4 {color: black;background-color: white;}#sk-container-id-4 pre{padding: 0;}#sk-container-id-4 div.sk-toggleable {background-color: white;}#sk-container-id-4 label.sk-toggleable__label {cursor: pointer;display: block;width: 100%;margin-bottom: 0;padding: 0.3em;box-sizing: border-box;text-align: center;}#sk-container-id-4 label.sk-toggleable__label-arrow:before {content: \"▸\";float: left;margin-right: 0.25em;color: #696969;}#sk-container-id-4 label.sk-toggleable__label-arrow:hover:before {color: black;}#sk-container-id-4 div.sk-estimator:hover label.sk-toggleable__label-arrow:before {color: black;}#sk-container-id-4 div.sk-toggleable__content {max-height: 0;max-width: 0;overflow: hidden;text-align: left;background-color: #f0f8ff;}#sk-container-id-4 div.sk-toggleable__content pre {margin: 0.2em;color: black;border-radius: 0.25em;background-color: #f0f8ff;}#sk-container-id-4 input.sk-toggleable__control:checked~div.sk-toggleable__content {max-height: 200px;max-width: 100%;overflow: auto;}#sk-container-id-4 input.sk-toggleable__control:checked~label.sk-toggleable__label-arrow:before {content: \"▾\";}#sk-container-id-4 div.sk-estimator input.sk-toggleable__control:checked~label.sk-toggleable__label {background-color: #d4ebff;}#sk-container-id-4 div.sk-label input.sk-toggleable__control:checked~label.sk-toggleable__label {background-color: #d4ebff;}#sk-container-id-4 input.sk-hidden--visually {border: 0;clip: rect(1px 1px 1px 1px);clip: rect(1px, 1px, 1px, 1px);height: 1px;margin: -1px;overflow: hidden;padding: 0;position: absolute;width: 1px;}#sk-container-id-4 div.sk-estimator {font-family: monospace;background-color: #f0f8ff;border: 1px dotted black;border-radius: 0.25em;box-sizing: border-box;margin-bottom: 0.5em;}#sk-container-id-4 div.sk-estimator:hover {background-color: #d4ebff;}#sk-container-id-4 div.sk-parallel-item::after {content: \"\";width: 100%;border-bottom: 1px solid gray;flex-grow: 1;}#sk-container-id-4 div.sk-label:hover label.sk-toggleable__label {background-color: #d4ebff;}#sk-container-id-4 div.sk-serial::before {content: \"\";position: absolute;border-left: 1px solid gray;box-sizing: border-box;top: 0;bottom: 0;left: 50%;z-index: 0;}#sk-container-id-4 div.sk-serial {display: flex;flex-direction: column;align-items: center;background-color: white;padding-right: 0.2em;padding-left: 0.2em;position: relative;}#sk-container-id-4 div.sk-item {position: relative;z-index: 1;}#sk-container-id-4 div.sk-parallel {display: flex;align-items: stretch;justify-content: center;background-color: white;position: relative;}#sk-container-id-4 div.sk-item::before, #sk-container-id-4 div.sk-parallel-item::before {content: \"\";position: absolute;border-left: 1px solid gray;box-sizing: border-box;top: 0;bottom: 0;left: 50%;z-index: -1;}#sk-container-id-4 div.sk-parallel-item {display: flex;flex-direction: column;z-index: 1;position: relative;background-color: white;}#sk-container-id-4 div.sk-parallel-item:first-child::after {align-self: flex-end;width: 50%;}#sk-container-id-4 div.sk-parallel-item:last-child::after {align-self: flex-start;width: 50%;}#sk-container-id-4 div.sk-parallel-item:only-child::after {width: 0;}#sk-container-id-4 div.sk-dashed-wrapped {border: 1px dashed gray;margin: 0 0.4em 0.5em 0.4em;box-sizing: border-box;padding-bottom: 0.4em;background-color: white;}#sk-container-id-4 div.sk-label label {font-family: monospace;font-weight: bold;display: inline-block;line-height: 1.2em;}#sk-container-id-4 div.sk-label-container {text-align: center;}#sk-container-id-4 div.sk-container {/* jupyter's `normalize.less` sets `[hidden] { display: none; }` but bootstrap.min.css set `[hidden] { display: none !important; }` so we also need the `!important` here to be able to override the default hidden behavior on the sphinx rendered scikit-learn.org. See: https://github.com/scikit-learn/scikit-learn/issues/21755 */display: inline-block !important;position: relative;}#sk-container-id-4 div.sk-text-repr-fallback {display: none;}</style><div id=\"sk-container-id-4\" class=\"sk-top-container\"><div class=\"sk-text-repr-fallback\"><pre>SVC()</pre><b>In a Jupyter environment, please rerun this cell to show the HTML representation or trust the notebook. <br />On GitHub, the HTML representation is unable to render, please try loading this page with nbviewer.org.</b></div><div class=\"sk-container\" hidden><div class=\"sk-item\"><div class=\"sk-estimator sk-toggleable\"><input class=\"sk-toggleable__control sk-hidden--visually\" id=\"sk-estimator-id-4\" type=\"checkbox\" checked><label for=\"sk-estimator-id-4\" class=\"sk-toggleable__label sk-toggleable__label-arrow\">SVC</label><div class=\"sk-toggleable__content\"><pre>SVC()</pre></div></div></div></div></div>"
            ]
          },
          "metadata": {},
          "execution_count": 180
        }
      ]
    },
    {
      "cell_type": "code",
      "source": [
        "Y_pred = svc.predict(X_test)"
      ],
      "metadata": {
        "id": "dJYhobMxaui3"
      },
      "execution_count": null,
      "outputs": []
    },
    {
      "cell_type": "markdown",
      "source": [
        "model with random  under sampling"
      ],
      "metadata": {
        "id": "1RI0DKsxhGkw"
      }
    },
    {
      "cell_type": "code",
      "source": [
        "svc_rus=SVC()"
      ],
      "metadata": {
        "id": "q6DcoxTBhPHv"
      },
      "execution_count": null,
      "outputs": []
    },
    {
      "cell_type": "code",
      "source": [
        "svc_rus.fit(X_train_rus,Y_train_rus)"
      ],
      "metadata": {
        "colab": {
          "base_uri": "https://localhost:8080/",
          "height": 74
        },
        "id": "goLp6iKVhUaQ",
        "outputId": "cd8193b5-03a3-4523-c37d-9af5fa9b5913"
      },
      "execution_count": null,
      "outputs": [
        {
          "output_type": "execute_result",
          "data": {
            "text/plain": [
              "SVC()"
            ],
            "text/html": [
              "<style>#sk-container-id-5 {color: black;background-color: white;}#sk-container-id-5 pre{padding: 0;}#sk-container-id-5 div.sk-toggleable {background-color: white;}#sk-container-id-5 label.sk-toggleable__label {cursor: pointer;display: block;width: 100%;margin-bottom: 0;padding: 0.3em;box-sizing: border-box;text-align: center;}#sk-container-id-5 label.sk-toggleable__label-arrow:before {content: \"▸\";float: left;margin-right: 0.25em;color: #696969;}#sk-container-id-5 label.sk-toggleable__label-arrow:hover:before {color: black;}#sk-container-id-5 div.sk-estimator:hover label.sk-toggleable__label-arrow:before {color: black;}#sk-container-id-5 div.sk-toggleable__content {max-height: 0;max-width: 0;overflow: hidden;text-align: left;background-color: #f0f8ff;}#sk-container-id-5 div.sk-toggleable__content pre {margin: 0.2em;color: black;border-radius: 0.25em;background-color: #f0f8ff;}#sk-container-id-5 input.sk-toggleable__control:checked~div.sk-toggleable__content {max-height: 200px;max-width: 100%;overflow: auto;}#sk-container-id-5 input.sk-toggleable__control:checked~label.sk-toggleable__label-arrow:before {content: \"▾\";}#sk-container-id-5 div.sk-estimator input.sk-toggleable__control:checked~label.sk-toggleable__label {background-color: #d4ebff;}#sk-container-id-5 div.sk-label input.sk-toggleable__control:checked~label.sk-toggleable__label {background-color: #d4ebff;}#sk-container-id-5 input.sk-hidden--visually {border: 0;clip: rect(1px 1px 1px 1px);clip: rect(1px, 1px, 1px, 1px);height: 1px;margin: -1px;overflow: hidden;padding: 0;position: absolute;width: 1px;}#sk-container-id-5 div.sk-estimator {font-family: monospace;background-color: #f0f8ff;border: 1px dotted black;border-radius: 0.25em;box-sizing: border-box;margin-bottom: 0.5em;}#sk-container-id-5 div.sk-estimator:hover {background-color: #d4ebff;}#sk-container-id-5 div.sk-parallel-item::after {content: \"\";width: 100%;border-bottom: 1px solid gray;flex-grow: 1;}#sk-container-id-5 div.sk-label:hover label.sk-toggleable__label {background-color: #d4ebff;}#sk-container-id-5 div.sk-serial::before {content: \"\";position: absolute;border-left: 1px solid gray;box-sizing: border-box;top: 0;bottom: 0;left: 50%;z-index: 0;}#sk-container-id-5 div.sk-serial {display: flex;flex-direction: column;align-items: center;background-color: white;padding-right: 0.2em;padding-left: 0.2em;position: relative;}#sk-container-id-5 div.sk-item {position: relative;z-index: 1;}#sk-container-id-5 div.sk-parallel {display: flex;align-items: stretch;justify-content: center;background-color: white;position: relative;}#sk-container-id-5 div.sk-item::before, #sk-container-id-5 div.sk-parallel-item::before {content: \"\";position: absolute;border-left: 1px solid gray;box-sizing: border-box;top: 0;bottom: 0;left: 50%;z-index: -1;}#sk-container-id-5 div.sk-parallel-item {display: flex;flex-direction: column;z-index: 1;position: relative;background-color: white;}#sk-container-id-5 div.sk-parallel-item:first-child::after {align-self: flex-end;width: 50%;}#sk-container-id-5 div.sk-parallel-item:last-child::after {align-self: flex-start;width: 50%;}#sk-container-id-5 div.sk-parallel-item:only-child::after {width: 0;}#sk-container-id-5 div.sk-dashed-wrapped {border: 1px dashed gray;margin: 0 0.4em 0.5em 0.4em;box-sizing: border-box;padding-bottom: 0.4em;background-color: white;}#sk-container-id-5 div.sk-label label {font-family: monospace;font-weight: bold;display: inline-block;line-height: 1.2em;}#sk-container-id-5 div.sk-label-container {text-align: center;}#sk-container-id-5 div.sk-container {/* jupyter's `normalize.less` sets `[hidden] { display: none; }` but bootstrap.min.css set `[hidden] { display: none !important; }` so we also need the `!important` here to be able to override the default hidden behavior on the sphinx rendered scikit-learn.org. See: https://github.com/scikit-learn/scikit-learn/issues/21755 */display: inline-block !important;position: relative;}#sk-container-id-5 div.sk-text-repr-fallback {display: none;}</style><div id=\"sk-container-id-5\" class=\"sk-top-container\"><div class=\"sk-text-repr-fallback\"><pre>SVC()</pre><b>In a Jupyter environment, please rerun this cell to show the HTML representation or trust the notebook. <br />On GitHub, the HTML representation is unable to render, please try loading this page with nbviewer.org.</b></div><div class=\"sk-container\" hidden><div class=\"sk-item\"><div class=\"sk-estimator sk-toggleable\"><input class=\"sk-toggleable__control sk-hidden--visually\" id=\"sk-estimator-id-5\" type=\"checkbox\" checked><label for=\"sk-estimator-id-5\" class=\"sk-toggleable__label sk-toggleable__label-arrow\">SVC</label><div class=\"sk-toggleable__content\"><pre>SVC()</pre></div></div></div></div></div>"
            ]
          },
          "metadata": {},
          "execution_count": 183
        }
      ]
    },
    {
      "cell_type": "code",
      "source": [
        "Y_pred_rus=svc_rus.predict(X_test_rus)"
      ],
      "metadata": {
        "id": "4Y6ggFJPhZeQ"
      },
      "execution_count": null,
      "outputs": []
    },
    {
      "cell_type": "markdown",
      "source": [
        "model with random over sampling"
      ],
      "metadata": {
        "id": "2ELd7XOUawHe"
      }
    },
    {
      "cell_type": "code",
      "source": [
        "svc_ros=SVC()"
      ],
      "metadata": {
        "id": "UZ3re3uHa0Uo"
      },
      "execution_count": null,
      "outputs": []
    },
    {
      "cell_type": "code",
      "source": [
        "svc_ros.fit(X_train_ros, Y_train_ros)"
      ],
      "metadata": {
        "colab": {
          "base_uri": "https://localhost:8080/",
          "height": 74
        },
        "id": "bLQP2CQba4vV",
        "outputId": "509e3648-f571-4314-dd9e-927ca51c8e06"
      },
      "execution_count": null,
      "outputs": [
        {
          "output_type": "execute_result",
          "data": {
            "text/plain": [
              "SVC()"
            ],
            "text/html": [
              "<style>#sk-container-id-9 {color: black;background-color: white;}#sk-container-id-9 pre{padding: 0;}#sk-container-id-9 div.sk-toggleable {background-color: white;}#sk-container-id-9 label.sk-toggleable__label {cursor: pointer;display: block;width: 100%;margin-bottom: 0;padding: 0.3em;box-sizing: border-box;text-align: center;}#sk-container-id-9 label.sk-toggleable__label-arrow:before {content: \"▸\";float: left;margin-right: 0.25em;color: #696969;}#sk-container-id-9 label.sk-toggleable__label-arrow:hover:before {color: black;}#sk-container-id-9 div.sk-estimator:hover label.sk-toggleable__label-arrow:before {color: black;}#sk-container-id-9 div.sk-toggleable__content {max-height: 0;max-width: 0;overflow: hidden;text-align: left;background-color: #f0f8ff;}#sk-container-id-9 div.sk-toggleable__content pre {margin: 0.2em;color: black;border-radius: 0.25em;background-color: #f0f8ff;}#sk-container-id-9 input.sk-toggleable__control:checked~div.sk-toggleable__content {max-height: 200px;max-width: 100%;overflow: auto;}#sk-container-id-9 input.sk-toggleable__control:checked~label.sk-toggleable__label-arrow:before {content: \"▾\";}#sk-container-id-9 div.sk-estimator input.sk-toggleable__control:checked~label.sk-toggleable__label {background-color: #d4ebff;}#sk-container-id-9 div.sk-label input.sk-toggleable__control:checked~label.sk-toggleable__label {background-color: #d4ebff;}#sk-container-id-9 input.sk-hidden--visually {border: 0;clip: rect(1px 1px 1px 1px);clip: rect(1px, 1px, 1px, 1px);height: 1px;margin: -1px;overflow: hidden;padding: 0;position: absolute;width: 1px;}#sk-container-id-9 div.sk-estimator {font-family: monospace;background-color: #f0f8ff;border: 1px dotted black;border-radius: 0.25em;box-sizing: border-box;margin-bottom: 0.5em;}#sk-container-id-9 div.sk-estimator:hover {background-color: #d4ebff;}#sk-container-id-9 div.sk-parallel-item::after {content: \"\";width: 100%;border-bottom: 1px solid gray;flex-grow: 1;}#sk-container-id-9 div.sk-label:hover label.sk-toggleable__label {background-color: #d4ebff;}#sk-container-id-9 div.sk-serial::before {content: \"\";position: absolute;border-left: 1px solid gray;box-sizing: border-box;top: 0;bottom: 0;left: 50%;z-index: 0;}#sk-container-id-9 div.sk-serial {display: flex;flex-direction: column;align-items: center;background-color: white;padding-right: 0.2em;padding-left: 0.2em;position: relative;}#sk-container-id-9 div.sk-item {position: relative;z-index: 1;}#sk-container-id-9 div.sk-parallel {display: flex;align-items: stretch;justify-content: center;background-color: white;position: relative;}#sk-container-id-9 div.sk-item::before, #sk-container-id-9 div.sk-parallel-item::before {content: \"\";position: absolute;border-left: 1px solid gray;box-sizing: border-box;top: 0;bottom: 0;left: 50%;z-index: -1;}#sk-container-id-9 div.sk-parallel-item {display: flex;flex-direction: column;z-index: 1;position: relative;background-color: white;}#sk-container-id-9 div.sk-parallel-item:first-child::after {align-self: flex-end;width: 50%;}#sk-container-id-9 div.sk-parallel-item:last-child::after {align-self: flex-start;width: 50%;}#sk-container-id-9 div.sk-parallel-item:only-child::after {width: 0;}#sk-container-id-9 div.sk-dashed-wrapped {border: 1px dashed gray;margin: 0 0.4em 0.5em 0.4em;box-sizing: border-box;padding-bottom: 0.4em;background-color: white;}#sk-container-id-9 div.sk-label label {font-family: monospace;font-weight: bold;display: inline-block;line-height: 1.2em;}#sk-container-id-9 div.sk-label-container {text-align: center;}#sk-container-id-9 div.sk-container {/* jupyter's `normalize.less` sets `[hidden] { display: none; }` but bootstrap.min.css set `[hidden] { display: none !important; }` so we also need the `!important` here to be able to override the default hidden behavior on the sphinx rendered scikit-learn.org. See: https://github.com/scikit-learn/scikit-learn/issues/21755 */display: inline-block !important;position: relative;}#sk-container-id-9 div.sk-text-repr-fallback {display: none;}</style><div id=\"sk-container-id-9\" class=\"sk-top-container\"><div class=\"sk-text-repr-fallback\"><pre>SVC()</pre><b>In a Jupyter environment, please rerun this cell to show the HTML representation or trust the notebook. <br />On GitHub, the HTML representation is unable to render, please try loading this page with nbviewer.org.</b></div><div class=\"sk-container\" hidden><div class=\"sk-item\"><div class=\"sk-estimator sk-toggleable\"><input class=\"sk-toggleable__control sk-hidden--visually\" id=\"sk-estimator-id-15\" type=\"checkbox\" checked><label for=\"sk-estimator-id-15\" class=\"sk-toggleable__label sk-toggleable__label-arrow\">SVC</label><div class=\"sk-toggleable__content\"><pre>SVC()</pre></div></div></div></div></div>"
            ]
          },
          "metadata": {},
          "execution_count": 274
        }
      ]
    },
    {
      "cell_type": "code",
      "source": [
        "Y_pred_ros=svc_ros.predict(X_test_ros)"
      ],
      "metadata": {
        "id": "MceQvEmNbB7I"
      },
      "execution_count": null,
      "outputs": []
    },
    {
      "cell_type": "markdown",
      "source": [
        "**MODEL ACCURACY**"
      ],
      "metadata": {
        "id": "nWQQpTfNa2mE"
      }
    },
    {
      "cell_type": "code",
      "source": [
        "from sklearn.metrics import confusion_matrix, classification_report"
      ],
      "metadata": {
        "id": "dJQg-lzUa6qS"
      },
      "execution_count": null,
      "outputs": []
    },
    {
      "cell_type": "code",
      "source": [
        "confusion_matrix(Y_test,Y_pred)"
      ],
      "metadata": {
        "colab": {
          "base_uri": "https://localhost:8080/"
        },
        "id": "QYbyV3nwbFSV",
        "outputId": "fbe6fe33-17f5-475b-d8ca-12bab68e1a25"
      },
      "execution_count": null,
      "outputs": [
        {
          "output_type": "execute_result",
          "data": {
            "text/plain": [
              "array([[2419,    0],\n",
              "       [ 581,    0]])"
            ]
          },
          "metadata": {},
          "execution_count": 253
        }
      ]
    },
    {
      "cell_type": "code",
      "source": [
        "print(classification_report(Y_test,Y_pred))"
      ],
      "metadata": {
        "colab": {
          "base_uri": "https://localhost:8080/"
        },
        "id": "bA2JP5q0bK0D",
        "outputId": "89a13742-e2ee-4909-8548-db40acf9cc2d"
      },
      "execution_count": null,
      "outputs": [
        {
          "output_type": "stream",
          "name": "stdout",
          "text": [
            "              precision    recall  f1-score   support\n",
            "\n",
            "           0       0.81      1.00      0.89      2419\n",
            "           1       0.00      0.00      0.00       581\n",
            "\n",
            "    accuracy                           0.81      3000\n",
            "   macro avg       0.40      0.50      0.45      3000\n",
            "weighted avg       0.65      0.81      0.72      3000\n",
            "\n"
          ]
        },
        {
          "output_type": "stream",
          "name": "stderr",
          "text": [
            "/usr/local/lib/python3.10/dist-packages/sklearn/metrics/_classification.py:1344: UndefinedMetricWarning: Precision and F-score are ill-defined and being set to 0.0 in labels with no predicted samples. Use `zero_division` parameter to control this behavior.\n",
            "  _warn_prf(average, modifier, msg_start, len(result))\n",
            "/usr/local/lib/python3.10/dist-packages/sklearn/metrics/_classification.py:1344: UndefinedMetricWarning: Precision and F-score are ill-defined and being set to 0.0 in labels with no predicted samples. Use `zero_division` parameter to control this behavior.\n",
            "  _warn_prf(average, modifier, msg_start, len(result))\n",
            "/usr/local/lib/python3.10/dist-packages/sklearn/metrics/_classification.py:1344: UndefinedMetricWarning: Precision and F-score are ill-defined and being set to 0.0 in labels with no predicted samples. Use `zero_division` parameter to control this behavior.\n",
            "  _warn_prf(average, modifier, msg_start, len(result))\n"
          ]
        }
      ]
    },
    {
      "cell_type": "markdown",
      "source": [
        "model rus"
      ],
      "metadata": {
        "id": "dCMV8tDfhibG"
      }
    },
    {
      "cell_type": "code",
      "source": [
        "confusion_matrix(Y_test_rus,Y_pred_rus)"
      ],
      "metadata": {
        "colab": {
          "base_uri": "https://localhost:8080/"
        },
        "id": "8wI-0sErhmCs",
        "outputId": "1b5d159e-7a72-4629-fb22-628e35c51393"
      },
      "execution_count": null,
      "outputs": [
        {
          "output_type": "execute_result",
          "data": {
            "text/plain": [
              "array([[399, 204],\n",
              "       [411, 209]])"
            ]
          },
          "metadata": {},
          "execution_count": 256
        }
      ]
    },
    {
      "cell_type": "code",
      "source": [
        "print(classification_report(Y_test_rus,Y_pred_rus))"
      ],
      "metadata": {
        "colab": {
          "base_uri": "https://localhost:8080/"
        },
        "id": "S43yDM-whgN7",
        "outputId": "75e16492-244d-40ef-d2fd-b16c65f01f05"
      },
      "execution_count": null,
      "outputs": [
        {
          "output_type": "stream",
          "name": "stdout",
          "text": [
            "              precision    recall  f1-score   support\n",
            "\n",
            "           0       0.49      0.66      0.56       603\n",
            "           1       0.51      0.34      0.40       620\n",
            "\n",
            "    accuracy                           0.50      1223\n",
            "   macro avg       0.50      0.50      0.48      1223\n",
            "weighted avg       0.50      0.50      0.48      1223\n",
            "\n"
          ]
        }
      ]
    },
    {
      "cell_type": "markdown",
      "source": [
        "model ros"
      ],
      "metadata": {
        "id": "ve-nhOEhbXXZ"
      }
    },
    {
      "cell_type": "code",
      "source": [
        "confusion_matrix(Y_test_ros, Y_pred_ros)"
      ],
      "metadata": {
        "colab": {
          "base_uri": "https://localhost:8080/"
        },
        "id": "dc_nVY__bpro",
        "outputId": "3e3c1c96-2153-4276-c068-5f1ea8930f7f"
      },
      "execution_count": null,
      "outputs": [
        {
          "output_type": "execute_result",
          "data": {
            "text/plain": [
              "array([[2065,  361],\n",
              "       [2091,  261]])"
            ]
          },
          "metadata": {},
          "execution_count": 285
        }
      ]
    },
    {
      "cell_type": "code",
      "source": [
        "print(classification_report(Y_test_ros,Y_pred_ros))"
      ],
      "metadata": {
        "colab": {
          "base_uri": "https://localhost:8080/"
        },
        "id": "6LulH87Ncwvn",
        "outputId": "43803cfd-0d22-4e9f-b310-30cc2e5fb9bf"
      },
      "execution_count": null,
      "outputs": [
        {
          "output_type": "stream",
          "name": "stdout",
          "text": [
            "              precision    recall  f1-score   support\n",
            "\n",
            "           0       0.50      0.85      0.63      2426\n",
            "           1       0.42      0.11      0.18      2352\n",
            "\n",
            "    accuracy                           0.49      4778\n",
            "   macro avg       0.46      0.48      0.40      4778\n",
            "weighted avg       0.46      0.49      0.40      4778\n",
            "\n"
          ]
        }
      ]
    },
    {
      "cell_type": "markdown",
      "source": [
        "**HYPERPARAMETER TUNNING**"
      ],
      "metadata": {
        "id": "9EUCp2jDfmWv"
      }
    },
    {
      "cell_type": "code",
      "source": [
        "from sklearn.model_selection import GridSearchCV"
      ],
      "metadata": {
        "id": "qHDUBNZLffEI"
      },
      "execution_count": null,
      "outputs": []
    },
    {
      "cell_type": "code",
      "source": [
        "param_grid={'C':[0.1,1,10],'gamma':[1,0.1,0.01],'kernel':['rbf'],'class_weight':['balanced']}"
      ],
      "metadata": {
        "id": "E1Ef_iZWf0Ww"
      },
      "execution_count": null,
      "outputs": []
    },
    {
      "cell_type": "code",
      "source": [
        "grid=GridSearchCV(SVC(),param_grid,refit=True,verbose=2,cv=2)\n",
        "grid.fit(X_train,Y_train)"
      ],
      "metadata": {
        "colab": {
          "base_uri": "https://localhost:8080/",
          "height": 446
        },
        "id": "O6aeUOIsgIgb",
        "outputId": "cf804658-0f49-4517-f99f-0f1736915d35"
      },
      "execution_count": null,
      "outputs": [
        {
          "output_type": "stream",
          "name": "stdout",
          "text": [
            "Fitting 2 folds for each of 9 candidates, totalling 18 fits\n",
            "[CV] END ..C=0.1, class_weight=balanced, gamma=1, kernel=rbf; total time=   1.5s\n",
            "[CV] END ..C=0.1, class_weight=balanced, gamma=1, kernel=rbf; total time=   1.5s\n",
            "[CV] END C=0.1, class_weight=balanced, gamma=0.1, kernel=rbf; total time=   1.5s\n",
            "[CV] END C=0.1, class_weight=balanced, gamma=0.1, kernel=rbf; total time=   1.5s\n",
            "[CV] END C=0.1, class_weight=balanced, gamma=0.01, kernel=rbf; total time=   2.8s\n",
            "[CV] END C=0.1, class_weight=balanced, gamma=0.01, kernel=rbf; total time=   1.9s\n",
            "[CV] END ....C=1, class_weight=balanced, gamma=1, kernel=rbf; total time=   1.6s\n",
            "[CV] END ....C=1, class_weight=balanced, gamma=1, kernel=rbf; total time=   1.6s\n",
            "[CV] END ..C=1, class_weight=balanced, gamma=0.1, kernel=rbf; total time=   1.6s\n",
            "[CV] END ..C=1, class_weight=balanced, gamma=0.1, kernel=rbf; total time=   1.6s\n",
            "[CV] END .C=1, class_weight=balanced, gamma=0.01, kernel=rbf; total time=   1.6s\n",
            "[CV] END .C=1, class_weight=balanced, gamma=0.01, kernel=rbf; total time=   2.3s\n",
            "[CV] END ...C=10, class_weight=balanced, gamma=1, kernel=rbf; total time=   2.8s\n",
            "[CV] END ...C=10, class_weight=balanced, gamma=1, kernel=rbf; total time=   1.6s\n",
            "[CV] END .C=10, class_weight=balanced, gamma=0.1, kernel=rbf; total time=   1.7s\n",
            "[CV] END .C=10, class_weight=balanced, gamma=0.1, kernel=rbf; total time=   1.7s\n",
            "[CV] END C=10, class_weight=balanced, gamma=0.01, kernel=rbf; total time=   1.7s\n",
            "[CV] END C=10, class_weight=balanced, gamma=0.01, kernel=rbf; total time=   1.7s\n"
          ]
        },
        {
          "output_type": "execute_result",
          "data": {
            "text/plain": [
              "GridSearchCV(cv=2, estimator=SVC(),\n",
              "             param_grid={'C': [0.1, 1, 10], 'class_weight': ['balanced'],\n",
              "                         'gamma': [1, 0.1, 0.01], 'kernel': ['rbf']},\n",
              "             verbose=2)"
            ],
            "text/html": [
              "<style>#sk-container-id-8 {color: black;background-color: white;}#sk-container-id-8 pre{padding: 0;}#sk-container-id-8 div.sk-toggleable {background-color: white;}#sk-container-id-8 label.sk-toggleable__label {cursor: pointer;display: block;width: 100%;margin-bottom: 0;padding: 0.3em;box-sizing: border-box;text-align: center;}#sk-container-id-8 label.sk-toggleable__label-arrow:before {content: \"▸\";float: left;margin-right: 0.25em;color: #696969;}#sk-container-id-8 label.sk-toggleable__label-arrow:hover:before {color: black;}#sk-container-id-8 div.sk-estimator:hover label.sk-toggleable__label-arrow:before {color: black;}#sk-container-id-8 div.sk-toggleable__content {max-height: 0;max-width: 0;overflow: hidden;text-align: left;background-color: #f0f8ff;}#sk-container-id-8 div.sk-toggleable__content pre {margin: 0.2em;color: black;border-radius: 0.25em;background-color: #f0f8ff;}#sk-container-id-8 input.sk-toggleable__control:checked~div.sk-toggleable__content {max-height: 200px;max-width: 100%;overflow: auto;}#sk-container-id-8 input.sk-toggleable__control:checked~label.sk-toggleable__label-arrow:before {content: \"▾\";}#sk-container-id-8 div.sk-estimator input.sk-toggleable__control:checked~label.sk-toggleable__label {background-color: #d4ebff;}#sk-container-id-8 div.sk-label input.sk-toggleable__control:checked~label.sk-toggleable__label {background-color: #d4ebff;}#sk-container-id-8 input.sk-hidden--visually {border: 0;clip: rect(1px 1px 1px 1px);clip: rect(1px, 1px, 1px, 1px);height: 1px;margin: -1px;overflow: hidden;padding: 0;position: absolute;width: 1px;}#sk-container-id-8 div.sk-estimator {font-family: monospace;background-color: #f0f8ff;border: 1px dotted black;border-radius: 0.25em;box-sizing: border-box;margin-bottom: 0.5em;}#sk-container-id-8 div.sk-estimator:hover {background-color: #d4ebff;}#sk-container-id-8 div.sk-parallel-item::after {content: \"\";width: 100%;border-bottom: 1px solid gray;flex-grow: 1;}#sk-container-id-8 div.sk-label:hover label.sk-toggleable__label {background-color: #d4ebff;}#sk-container-id-8 div.sk-serial::before {content: \"\";position: absolute;border-left: 1px solid gray;box-sizing: border-box;top: 0;bottom: 0;left: 50%;z-index: 0;}#sk-container-id-8 div.sk-serial {display: flex;flex-direction: column;align-items: center;background-color: white;padding-right: 0.2em;padding-left: 0.2em;position: relative;}#sk-container-id-8 div.sk-item {position: relative;z-index: 1;}#sk-container-id-8 div.sk-parallel {display: flex;align-items: stretch;justify-content: center;background-color: white;position: relative;}#sk-container-id-8 div.sk-item::before, #sk-container-id-8 div.sk-parallel-item::before {content: \"\";position: absolute;border-left: 1px solid gray;box-sizing: border-box;top: 0;bottom: 0;left: 50%;z-index: -1;}#sk-container-id-8 div.sk-parallel-item {display: flex;flex-direction: column;z-index: 1;position: relative;background-color: white;}#sk-container-id-8 div.sk-parallel-item:first-child::after {align-self: flex-end;width: 50%;}#sk-container-id-8 div.sk-parallel-item:last-child::after {align-self: flex-start;width: 50%;}#sk-container-id-8 div.sk-parallel-item:only-child::after {width: 0;}#sk-container-id-8 div.sk-dashed-wrapped {border: 1px dashed gray;margin: 0 0.4em 0.5em 0.4em;box-sizing: border-box;padding-bottom: 0.4em;background-color: white;}#sk-container-id-8 div.sk-label label {font-family: monospace;font-weight: bold;display: inline-block;line-height: 1.2em;}#sk-container-id-8 div.sk-label-container {text-align: center;}#sk-container-id-8 div.sk-container {/* jupyter's `normalize.less` sets `[hidden] { display: none; }` but bootstrap.min.css set `[hidden] { display: none !important; }` so we also need the `!important` here to be able to override the default hidden behavior on the sphinx rendered scikit-learn.org. See: https://github.com/scikit-learn/scikit-learn/issues/21755 */display: inline-block !important;position: relative;}#sk-container-id-8 div.sk-text-repr-fallback {display: none;}</style><div id=\"sk-container-id-8\" class=\"sk-top-container\"><div class=\"sk-text-repr-fallback\"><pre>GridSearchCV(cv=2, estimator=SVC(),\n",
              "             param_grid={&#x27;C&#x27;: [0.1, 1, 10], &#x27;class_weight&#x27;: [&#x27;balanced&#x27;],\n",
              "                         &#x27;gamma&#x27;: [1, 0.1, 0.01], &#x27;kernel&#x27;: [&#x27;rbf&#x27;]},\n",
              "             verbose=2)</pre><b>In a Jupyter environment, please rerun this cell to show the HTML representation or trust the notebook. <br />On GitHub, the HTML representation is unable to render, please try loading this page with nbviewer.org.</b></div><div class=\"sk-container\" hidden><div class=\"sk-item sk-dashed-wrapped\"><div class=\"sk-label-container\"><div class=\"sk-label sk-toggleable\"><input class=\"sk-toggleable__control sk-hidden--visually\" id=\"sk-estimator-id-12\" type=\"checkbox\" ><label for=\"sk-estimator-id-12\" class=\"sk-toggleable__label sk-toggleable__label-arrow\">GridSearchCV</label><div class=\"sk-toggleable__content\"><pre>GridSearchCV(cv=2, estimator=SVC(),\n",
              "             param_grid={&#x27;C&#x27;: [0.1, 1, 10], &#x27;class_weight&#x27;: [&#x27;balanced&#x27;],\n",
              "                         &#x27;gamma&#x27;: [1, 0.1, 0.01], &#x27;kernel&#x27;: [&#x27;rbf&#x27;]},\n",
              "             verbose=2)</pre></div></div></div><div class=\"sk-parallel\"><div class=\"sk-parallel-item\"><div class=\"sk-item\"><div class=\"sk-label-container\"><div class=\"sk-label sk-toggleable\"><input class=\"sk-toggleable__control sk-hidden--visually\" id=\"sk-estimator-id-13\" type=\"checkbox\" ><label for=\"sk-estimator-id-13\" class=\"sk-toggleable__label sk-toggleable__label-arrow\">estimator: SVC</label><div class=\"sk-toggleable__content\"><pre>SVC()</pre></div></div></div><div class=\"sk-serial\"><div class=\"sk-item\"><div class=\"sk-estimator sk-toggleable\"><input class=\"sk-toggleable__control sk-hidden--visually\" id=\"sk-estimator-id-14\" type=\"checkbox\" ><label for=\"sk-estimator-id-14\" class=\"sk-toggleable__label sk-toggleable__label-arrow\">SVC</label><div class=\"sk-toggleable__content\"><pre>SVC()</pre></div></div></div></div></div></div></div></div></div></div>"
            ]
          },
          "metadata": {},
          "execution_count": 260
        }
      ]
    },
    {
      "cell_type": "code",
      "source": [
        "print(grid.best_estimator_)"
      ],
      "metadata": {
        "colab": {
          "base_uri": "https://localhost:8080/"
        },
        "id": "XkGEDxLugOnc",
        "outputId": "d67e7a0d-1f4e-43d2-a7dd-fdb8cb0586e6"
      },
      "execution_count": null,
      "outputs": [
        {
          "output_type": "stream",
          "name": "stdout",
          "text": [
            "SVC(C=1, class_weight='balanced', gamma=1)\n"
          ]
        }
      ]
    },
    {
      "cell_type": "code",
      "source": [
        "grid_predictions=grid.predict(X_test)"
      ],
      "metadata": {
        "id": "dwke3vo0gkvf"
      },
      "execution_count": null,
      "outputs": []
    },
    {
      "cell_type": "code",
      "source": [
        "confusion_matrix(Y_test,grid_predictions)"
      ],
      "metadata": {
        "colab": {
          "base_uri": "https://localhost:8080/"
        },
        "id": "OHvQ81GDgsqW",
        "outputId": "737a45e1-2fcb-43e1-dffd-81d130079070"
      },
      "execution_count": null,
      "outputs": [
        {
          "output_type": "execute_result",
          "data": {
            "text/plain": [
              "array([[2419,    0],\n",
              "       [ 581,    0]])"
            ]
          },
          "metadata": {},
          "execution_count": 263
        }
      ]
    },
    {
      "cell_type": "code",
      "source": [
        "print(classification_report(Y_test,grid_predictions))"
      ],
      "metadata": {
        "colab": {
          "base_uri": "https://localhost:8080/"
        },
        "id": "HfQVSJQBgyAf",
        "outputId": "77b5738a-e05f-480f-dd77-4de22900fe12"
      },
      "execution_count": null,
      "outputs": [
        {
          "output_type": "stream",
          "name": "stdout",
          "text": [
            "              precision    recall  f1-score   support\n",
            "\n",
            "           0       0.81      1.00      0.89      2419\n",
            "           1       0.00      0.00      0.00       581\n",
            "\n",
            "    accuracy                           0.81      3000\n",
            "   macro avg       0.40      0.50      0.45      3000\n",
            "weighted avg       0.65      0.81      0.72      3000\n",
            "\n"
          ]
        },
        {
          "output_type": "stream",
          "name": "stderr",
          "text": [
            "/usr/local/lib/python3.10/dist-packages/sklearn/metrics/_classification.py:1344: UndefinedMetricWarning: Precision and F-score are ill-defined and being set to 0.0 in labels with no predicted samples. Use `zero_division` parameter to control this behavior.\n",
            "  _warn_prf(average, modifier, msg_start, len(result))\n",
            "/usr/local/lib/python3.10/dist-packages/sklearn/metrics/_classification.py:1344: UndefinedMetricWarning: Precision and F-score are ill-defined and being set to 0.0 in labels with no predicted samples. Use `zero_division` parameter to control this behavior.\n",
            "  _warn_prf(average, modifier, msg_start, len(result))\n",
            "/usr/local/lib/python3.10/dist-packages/sklearn/metrics/_classification.py:1344: UndefinedMetricWarning: Precision and F-score are ill-defined and being set to 0.0 in labels with no predicted samples. Use `zero_division` parameter to control this behavior.\n",
            "  _warn_prf(average, modifier, msg_start, len(result))\n"
          ]
        }
      ]
    },
    {
      "cell_type": "markdown",
      "source": [
        "hyperparameter tunning for rus"
      ],
      "metadata": {
        "id": "jc4qh1fBiKMa"
      }
    },
    {
      "cell_type": "code",
      "source": [
        "param_grid={'C':[0.1,1,10],'gamma':[1,0.1,0.01],'kernel':['rbf'],'class_weight':['balanced']}"
      ],
      "metadata": {
        "id": "ZGy_r_9UiOYM"
      },
      "execution_count": null,
      "outputs": []
    },
    {
      "cell_type": "code",
      "source": [
        "grid_rus= GridSearchCV(SVC(),param_grid,refit=True,verbose=2,cv=2)\n",
        "grid_rus=grid.fit(X_train_rus,Y_train_rus)\n"
      ],
      "metadata": {
        "colab": {
          "base_uri": "https://localhost:8080/"
        },
        "id": "-6dxQrBuiU9b",
        "outputId": "55f870a4-f834-4d8f-b3c4-8d9583e5c17f"
      },
      "execution_count": null,
      "outputs": [
        {
          "output_type": "stream",
          "name": "stdout",
          "text": [
            "Fitting 2 folds for each of 9 candidates, totalling 18 fits\n",
            "[CV] END ..C=0.1, class_weight=balanced, gamma=1, kernel=rbf; total time=   0.3s\n",
            "[CV] END ..C=0.1, class_weight=balanced, gamma=1, kernel=rbf; total time=   0.2s\n",
            "[CV] END C=0.1, class_weight=balanced, gamma=0.1, kernel=rbf; total time=   0.3s\n",
            "[CV] END C=0.1, class_weight=balanced, gamma=0.1, kernel=rbf; total time=   0.3s\n",
            "[CV] END C=0.1, class_weight=balanced, gamma=0.01, kernel=rbf; total time=   0.3s\n",
            "[CV] END C=0.1, class_weight=balanced, gamma=0.01, kernel=rbf; total time=   0.3s\n",
            "[CV] END ....C=1, class_weight=balanced, gamma=1, kernel=rbf; total time=   0.2s\n",
            "[CV] END ....C=1, class_weight=balanced, gamma=1, kernel=rbf; total time=   0.2s\n",
            "[CV] END ..C=1, class_weight=balanced, gamma=0.1, kernel=rbf; total time=   0.3s\n",
            "[CV] END ..C=1, class_weight=balanced, gamma=0.1, kernel=rbf; total time=   0.3s\n",
            "[CV] END .C=1, class_weight=balanced, gamma=0.01, kernel=rbf; total time=   0.3s\n",
            "[CV] END .C=1, class_weight=balanced, gamma=0.01, kernel=rbf; total time=   0.3s\n",
            "[CV] END ...C=10, class_weight=balanced, gamma=1, kernel=rbf; total time=   0.3s\n",
            "[CV] END ...C=10, class_weight=balanced, gamma=1, kernel=rbf; total time=   0.3s\n",
            "[CV] END .C=10, class_weight=balanced, gamma=0.1, kernel=rbf; total time=   0.3s\n",
            "[CV] END .C=10, class_weight=balanced, gamma=0.1, kernel=rbf; total time=   0.3s\n",
            "[CV] END C=10, class_weight=balanced, gamma=0.01, kernel=rbf; total time=   0.3s\n",
            "[CV] END C=10, class_weight=balanced, gamma=0.01, kernel=rbf; total time=   0.3s\n"
          ]
        }
      ]
    },
    {
      "cell_type": "code",
      "source": [
        "print(grid_rus.best_estimator_)"
      ],
      "metadata": {
        "colab": {
          "base_uri": "https://localhost:8080/"
        },
        "id": "FoQ-lJ-Mihos",
        "outputId": "efe6b0e0-6899-4bf6-ce7c-0b7d20c97590"
      },
      "execution_count": null,
      "outputs": [
        {
          "output_type": "stream",
          "name": "stdout",
          "text": [
            "SVC(C=1, class_weight='balanced', gamma=1)\n"
          ]
        }
      ]
    },
    {
      "cell_type": "code",
      "source": [
        "grid_predictions_rus=grid_rus.predict(X_test_rus)"
      ],
      "metadata": {
        "id": "faO84kugikz5"
      },
      "execution_count": null,
      "outputs": []
    },
    {
      "cell_type": "code",
      "source": [
        "confusion_matrix(Y_test_rus,grid_predictions_rus)"
      ],
      "metadata": {
        "colab": {
          "base_uri": "https://localhost:8080/"
        },
        "id": "brhbdBhUiprl",
        "outputId": "fdc4cd67-dfea-42a0-ad7d-b420364edfb5"
      },
      "execution_count": null,
      "outputs": [
        {
          "output_type": "execute_result",
          "data": {
            "text/plain": [
              "array([[603,   0],\n",
              "       [620,   0]])"
            ]
          },
          "metadata": {},
          "execution_count": 269
        }
      ]
    },
    {
      "cell_type": "code",
      "source": [
        "print(classification_report(Y_test_rus,grid_predictions_rus))"
      ],
      "metadata": {
        "colab": {
          "base_uri": "https://localhost:8080/"
        },
        "id": "CkY7ZJfyivEl",
        "outputId": "3021b894-f5e7-4c1d-dccc-6743f11d0ab5"
      },
      "execution_count": null,
      "outputs": [
        {
          "output_type": "stream",
          "name": "stdout",
          "text": [
            "              precision    recall  f1-score   support\n",
            "\n",
            "           0       0.49      1.00      0.66       603\n",
            "           1       0.00      0.00      0.00       620\n",
            "\n",
            "    accuracy                           0.49      1223\n",
            "   macro avg       0.25      0.50      0.33      1223\n",
            "weighted avg       0.24      0.49      0.33      1223\n",
            "\n"
          ]
        },
        {
          "output_type": "stream",
          "name": "stderr",
          "text": [
            "/usr/local/lib/python3.10/dist-packages/sklearn/metrics/_classification.py:1344: UndefinedMetricWarning: Precision and F-score are ill-defined and being set to 0.0 in labels with no predicted samples. Use `zero_division` parameter to control this behavior.\n",
            "  _warn_prf(average, modifier, msg_start, len(result))\n",
            "/usr/local/lib/python3.10/dist-packages/sklearn/metrics/_classification.py:1344: UndefinedMetricWarning: Precision and F-score are ill-defined and being set to 0.0 in labels with no predicted samples. Use `zero_division` parameter to control this behavior.\n",
            "  _warn_prf(average, modifier, msg_start, len(result))\n",
            "/usr/local/lib/python3.10/dist-packages/sklearn/metrics/_classification.py:1344: UndefinedMetricWarning: Precision and F-score are ill-defined and being set to 0.0 in labels with no predicted samples. Use `zero_division` parameter to control this behavior.\n",
            "  _warn_prf(average, modifier, msg_start, len(result))\n"
          ]
        }
      ]
    },
    {
      "cell_type": "markdown",
      "source": [
        "hyperparameter tuning for ros"
      ],
      "metadata": {
        "id": "hFTdEnQRdoMF"
      }
    },
    {
      "cell_type": "code",
      "source": [
        "param_grid={'C': [0.1,1,10],'gamma':[1,0.1,0.01],'kernel':['rbf'],'class_weight':['balanced']}"
      ],
      "metadata": {
        "id": "y5ZA9JYOVQdR"
      },
      "execution_count": null,
      "outputs": []
    },
    {
      "cell_type": "code",
      "source": [
        "grid_ros=GridSearchCV(SVC(),param_grid,refit=True,verbose=2,cv=2)\n",
        "grid_ros.fit(X_train_ros,Y_train_ros)"
      ],
      "metadata": {
        "colab": {
          "base_uri": "https://localhost:8080/",
          "height": 446
        },
        "id": "fsXGwxDTd6OP",
        "outputId": "ae491e20-eac2-4980-e177-111c77669255"
      },
      "execution_count": null,
      "outputs": [
        {
          "output_type": "stream",
          "name": "stdout",
          "text": [
            "Fitting 2 folds for each of 9 candidates, totalling 18 fits\n",
            "[CV] END ..C=0.1, class_weight=balanced, gamma=1, kernel=rbf; total time=   3.9s\n",
            "[CV] END ..C=0.1, class_weight=balanced, gamma=1, kernel=rbf; total time=   5.3s\n",
            "[CV] END C=0.1, class_weight=balanced, gamma=0.1, kernel=rbf; total time=   5.8s\n",
            "[CV] END C=0.1, class_weight=balanced, gamma=0.1, kernel=rbf; total time=   7.2s\n",
            "[CV] END C=0.1, class_weight=balanced, gamma=0.01, kernel=rbf; total time=   8.3s\n",
            "[CV] END C=0.1, class_weight=balanced, gamma=0.01, kernel=rbf; total time=   7.8s\n",
            "[CV] END ....C=1, class_weight=balanced, gamma=1, kernel=rbf; total time=   8.1s\n",
            "[CV] END ....C=1, class_weight=balanced, gamma=1, kernel=rbf; total time=   5.6s\n",
            "[CV] END ..C=1, class_weight=balanced, gamma=0.1, kernel=rbf; total time=   8.7s\n",
            "[CV] END ..C=1, class_weight=balanced, gamma=0.1, kernel=rbf; total time=   6.4s\n",
            "[CV] END .C=1, class_weight=balanced, gamma=0.01, kernel=rbf; total time=   7.4s\n",
            "[CV] END .C=1, class_weight=balanced, gamma=0.01, kernel=rbf; total time=   5.6s\n",
            "[CV] END ...C=10, class_weight=balanced, gamma=1, kernel=rbf; total time=   7.3s\n",
            "[CV] END ...C=10, class_weight=balanced, gamma=1, kernel=rbf; total time=   5.8s\n",
            "[CV] END .C=10, class_weight=balanced, gamma=0.1, kernel=rbf; total time=   7.5s\n",
            "[CV] END .C=10, class_weight=balanced, gamma=0.1, kernel=rbf; total time=   6.0s\n",
            "[CV] END C=10, class_weight=balanced, gamma=0.01, kernel=rbf; total time=  10.2s\n",
            "[CV] END C=10, class_weight=balanced, gamma=0.01, kernel=rbf; total time=   6.3s\n"
          ]
        },
        {
          "output_type": "execute_result",
          "data": {
            "text/plain": [
              "GridSearchCV(cv=2, estimator=SVC(),\n",
              "             param_grid={'C': [0.1, 1, 10], 'class_weight': ['balanced'],\n",
              "                         'gamma': [1, 0.1, 0.01], 'kernel': ['rbf']},\n",
              "             verbose=2)"
            ],
            "text/html": [
              "<style>#sk-container-id-10 {color: black;background-color: white;}#sk-container-id-10 pre{padding: 0;}#sk-container-id-10 div.sk-toggleable {background-color: white;}#sk-container-id-10 label.sk-toggleable__label {cursor: pointer;display: block;width: 100%;margin-bottom: 0;padding: 0.3em;box-sizing: border-box;text-align: center;}#sk-container-id-10 label.sk-toggleable__label-arrow:before {content: \"▸\";float: left;margin-right: 0.25em;color: #696969;}#sk-container-id-10 label.sk-toggleable__label-arrow:hover:before {color: black;}#sk-container-id-10 div.sk-estimator:hover label.sk-toggleable__label-arrow:before {color: black;}#sk-container-id-10 div.sk-toggleable__content {max-height: 0;max-width: 0;overflow: hidden;text-align: left;background-color: #f0f8ff;}#sk-container-id-10 div.sk-toggleable__content pre {margin: 0.2em;color: black;border-radius: 0.25em;background-color: #f0f8ff;}#sk-container-id-10 input.sk-toggleable__control:checked~div.sk-toggleable__content {max-height: 200px;max-width: 100%;overflow: auto;}#sk-container-id-10 input.sk-toggleable__control:checked~label.sk-toggleable__label-arrow:before {content: \"▾\";}#sk-container-id-10 div.sk-estimator input.sk-toggleable__control:checked~label.sk-toggleable__label {background-color: #d4ebff;}#sk-container-id-10 div.sk-label input.sk-toggleable__control:checked~label.sk-toggleable__label {background-color: #d4ebff;}#sk-container-id-10 input.sk-hidden--visually {border: 0;clip: rect(1px 1px 1px 1px);clip: rect(1px, 1px, 1px, 1px);height: 1px;margin: -1px;overflow: hidden;padding: 0;position: absolute;width: 1px;}#sk-container-id-10 div.sk-estimator {font-family: monospace;background-color: #f0f8ff;border: 1px dotted black;border-radius: 0.25em;box-sizing: border-box;margin-bottom: 0.5em;}#sk-container-id-10 div.sk-estimator:hover {background-color: #d4ebff;}#sk-container-id-10 div.sk-parallel-item::after {content: \"\";width: 100%;border-bottom: 1px solid gray;flex-grow: 1;}#sk-container-id-10 div.sk-label:hover label.sk-toggleable__label {background-color: #d4ebff;}#sk-container-id-10 div.sk-serial::before {content: \"\";position: absolute;border-left: 1px solid gray;box-sizing: border-box;top: 0;bottom: 0;left: 50%;z-index: 0;}#sk-container-id-10 div.sk-serial {display: flex;flex-direction: column;align-items: center;background-color: white;padding-right: 0.2em;padding-left: 0.2em;position: relative;}#sk-container-id-10 div.sk-item {position: relative;z-index: 1;}#sk-container-id-10 div.sk-parallel {display: flex;align-items: stretch;justify-content: center;background-color: white;position: relative;}#sk-container-id-10 div.sk-item::before, #sk-container-id-10 div.sk-parallel-item::before {content: \"\";position: absolute;border-left: 1px solid gray;box-sizing: border-box;top: 0;bottom: 0;left: 50%;z-index: -1;}#sk-container-id-10 div.sk-parallel-item {display: flex;flex-direction: column;z-index: 1;position: relative;background-color: white;}#sk-container-id-10 div.sk-parallel-item:first-child::after {align-self: flex-end;width: 50%;}#sk-container-id-10 div.sk-parallel-item:last-child::after {align-self: flex-start;width: 50%;}#sk-container-id-10 div.sk-parallel-item:only-child::after {width: 0;}#sk-container-id-10 div.sk-dashed-wrapped {border: 1px dashed gray;margin: 0 0.4em 0.5em 0.4em;box-sizing: border-box;padding-bottom: 0.4em;background-color: white;}#sk-container-id-10 div.sk-label label {font-family: monospace;font-weight: bold;display: inline-block;line-height: 1.2em;}#sk-container-id-10 div.sk-label-container {text-align: center;}#sk-container-id-10 div.sk-container {/* jupyter's `normalize.less` sets `[hidden] { display: none; }` but bootstrap.min.css set `[hidden] { display: none !important; }` so we also need the `!important` here to be able to override the default hidden behavior on the sphinx rendered scikit-learn.org. See: https://github.com/scikit-learn/scikit-learn/issues/21755 */display: inline-block !important;position: relative;}#sk-container-id-10 div.sk-text-repr-fallback {display: none;}</style><div id=\"sk-container-id-10\" class=\"sk-top-container\"><div class=\"sk-text-repr-fallback\"><pre>GridSearchCV(cv=2, estimator=SVC(),\n",
              "             param_grid={&#x27;C&#x27;: [0.1, 1, 10], &#x27;class_weight&#x27;: [&#x27;balanced&#x27;],\n",
              "                         &#x27;gamma&#x27;: [1, 0.1, 0.01], &#x27;kernel&#x27;: [&#x27;rbf&#x27;]},\n",
              "             verbose=2)</pre><b>In a Jupyter environment, please rerun this cell to show the HTML representation or trust the notebook. <br />On GitHub, the HTML representation is unable to render, please try loading this page with nbviewer.org.</b></div><div class=\"sk-container\" hidden><div class=\"sk-item sk-dashed-wrapped\"><div class=\"sk-label-container\"><div class=\"sk-label sk-toggleable\"><input class=\"sk-toggleable__control sk-hidden--visually\" id=\"sk-estimator-id-16\" type=\"checkbox\" ><label for=\"sk-estimator-id-16\" class=\"sk-toggleable__label sk-toggleable__label-arrow\">GridSearchCV</label><div class=\"sk-toggleable__content\"><pre>GridSearchCV(cv=2, estimator=SVC(),\n",
              "             param_grid={&#x27;C&#x27;: [0.1, 1, 10], &#x27;class_weight&#x27;: [&#x27;balanced&#x27;],\n",
              "                         &#x27;gamma&#x27;: [1, 0.1, 0.01], &#x27;kernel&#x27;: [&#x27;rbf&#x27;]},\n",
              "             verbose=2)</pre></div></div></div><div class=\"sk-parallel\"><div class=\"sk-parallel-item\"><div class=\"sk-item\"><div class=\"sk-label-container\"><div class=\"sk-label sk-toggleable\"><input class=\"sk-toggleable__control sk-hidden--visually\" id=\"sk-estimator-id-17\" type=\"checkbox\" ><label for=\"sk-estimator-id-17\" class=\"sk-toggleable__label sk-toggleable__label-arrow\">estimator: SVC</label><div class=\"sk-toggleable__content\"><pre>SVC()</pre></div></div></div><div class=\"sk-serial\"><div class=\"sk-item\"><div class=\"sk-estimator sk-toggleable\"><input class=\"sk-toggleable__control sk-hidden--visually\" id=\"sk-estimator-id-18\" type=\"checkbox\" ><label for=\"sk-estimator-id-18\" class=\"sk-toggleable__label sk-toggleable__label-arrow\">SVC</label><div class=\"sk-toggleable__content\"><pre>SVC()</pre></div></div></div></div></div></div></div></div></div></div>"
            ]
          },
          "metadata": {},
          "execution_count": 290
        }
      ]
    },
    {
      "cell_type": "code",
      "source": [
        "print(grid_ros.best_estimator_)"
      ],
      "metadata": {
        "colab": {
          "base_uri": "https://localhost:8080/"
        },
        "id": "q84X2I7SeP_Y",
        "outputId": "0933a23d-6931-458e-c6ed-c9947116875b"
      },
      "execution_count": null,
      "outputs": [
        {
          "output_type": "stream",
          "name": "stdout",
          "text": [
            "SVC(C=1, class_weight='balanced', gamma=1)\n"
          ]
        }
      ]
    },
    {
      "cell_type": "code",
      "source": [
        "grid_predictions_ros=grid_ros.predict(X_test_ros)"
      ],
      "metadata": {
        "id": "lbrpJmwmel8S"
      },
      "execution_count": null,
      "outputs": []
    },
    {
      "cell_type": "code",
      "source": [
        "confusion_matrix(Y_test_ros,grid_predictions_ros)"
      ],
      "metadata": {
        "colab": {
          "base_uri": "https://localhost:8080/"
        },
        "id": "OIpVe8vAe6e1",
        "outputId": "42404f77-e4ff-4fb9-a2d9-d897514f7784"
      },
      "execution_count": null,
      "outputs": [
        {
          "output_type": "execute_result",
          "data": {
            "text/plain": [
              "array([[2426,    0],\n",
              "       [ 149, 2203]])"
            ]
          },
          "metadata": {},
          "execution_count": 293
        }
      ]
    },
    {
      "cell_type": "code",
      "source": [
        "print(classification_report(Y_test_ros,grid_predictions_ros))"
      ],
      "metadata": {
        "colab": {
          "base_uri": "https://localhost:8080/"
        },
        "id": "DWrYIhYzfFMy",
        "outputId": "0fa93f12-7fc4-44f1-cba9-02de16bd14ac"
      },
      "execution_count": null,
      "outputs": [
        {
          "output_type": "stream",
          "name": "stdout",
          "text": [
            "              precision    recall  f1-score   support\n",
            "\n",
            "           0       0.94      1.00      0.97      2426\n",
            "           1       1.00      0.94      0.97      2352\n",
            "\n",
            "    accuracy                           0.97      4778\n",
            "   macro avg       0.97      0.97      0.97      4778\n",
            "weighted avg       0.97      0.97      0.97      4778\n",
            "\n"
          ]
        }
      ]
    },
    {
      "cell_type": "markdown",
      "source": [
        "Accuracy=97% in ROS(random over sampling)"
      ],
      "metadata": {
        "id": "SPqdpMgifqtI"
      }
    }
  ]
}